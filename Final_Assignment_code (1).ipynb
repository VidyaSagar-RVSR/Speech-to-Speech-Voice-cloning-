{
  "nbformat": 4,
  "nbformat_minor": 0,
  "metadata": {
    "colab": {
      "provenance": []
    },
    "kernelspec": {
      "name": "python3",
      "display_name": "Python 3"
    },
    "language_info": {
      "name": "python"
    }
  },
  "cells": [
    {
      "cell_type": "code",
      "execution_count": 1,
      "metadata": {
        "colab": {
          "base_uri": "https://localhost:8080/"
        },
        "id": "6Oeox4a6pSaS",
        "outputId": "f8c474a7-8093-44d7-e08f-e64d71b35cf0"
      },
      "outputs": [
        {
          "output_type": "stream",
          "name": "stdout",
          "text": [
            "Reading package lists... Done\n",
            "Building dependency tree... Done\n",
            "Reading state information... Done\n",
            "The following additional packages will be installed:\n",
            "  libportaudio2 libportaudiocpp0\n",
            "Suggested packages:\n",
            "  portaudio19-doc\n",
            "The following NEW packages will be installed:\n",
            "  libportaudio2 libportaudiocpp0 portaudio19-dev\n",
            "0 upgraded, 3 newly installed, 0 to remove and 11 not upgraded.\n",
            "Need to get 188 kB of archives.\n",
            "After this operation, 927 kB of additional disk space will be used.\n",
            "Get:1 http://archive.ubuntu.com/ubuntu jammy/universe amd64 libportaudio2 amd64 19.6.0-1.1 [65.3 kB]\n",
            "Get:2 http://archive.ubuntu.com/ubuntu jammy/universe amd64 libportaudiocpp0 amd64 19.6.0-1.1 [16.1 kB]\n",
            "Get:3 http://archive.ubuntu.com/ubuntu jammy/universe amd64 portaudio19-dev amd64 19.6.0-1.1 [106 kB]\n",
            "Fetched 188 kB in 1s (248 kB/s)\n",
            "Selecting previously unselected package libportaudio2:amd64.\n",
            "(Reading database ... 120880 files and directories currently installed.)\n",
            "Preparing to unpack .../libportaudio2_19.6.0-1.1_amd64.deb ...\n",
            "Unpacking libportaudio2:amd64 (19.6.0-1.1) ...\n",
            "Selecting previously unselected package libportaudiocpp0:amd64.\n",
            "Preparing to unpack .../libportaudiocpp0_19.6.0-1.1_amd64.deb ...\n",
            "Unpacking libportaudiocpp0:amd64 (19.6.0-1.1) ...\n",
            "Selecting previously unselected package portaudio19-dev:amd64.\n",
            "Preparing to unpack .../portaudio19-dev_19.6.0-1.1_amd64.deb ...\n",
            "Unpacking portaudio19-dev:amd64 (19.6.0-1.1) ...\n",
            "Setting up libportaudio2:amd64 (19.6.0-1.1) ...\n",
            "Setting up libportaudiocpp0:amd64 (19.6.0-1.1) ...\n",
            "Setting up portaudio19-dev:amd64 (19.6.0-1.1) ...\n",
            "Processing triggers for libc-bin (2.35-0ubuntu3.4) ...\n",
            "/sbin/ldconfig.real: /usr/local/lib/libtbbbind.so.3 is not a symbolic link\n",
            "\n",
            "/sbin/ldconfig.real: /usr/local/lib/libtbbmalloc.so.2 is not a symbolic link\n",
            "\n",
            "/sbin/ldconfig.real: /usr/local/lib/libtbbbind_2_5.so.3 is not a symbolic link\n",
            "\n",
            "/sbin/ldconfig.real: /usr/local/lib/libtbb.so.12 is not a symbolic link\n",
            "\n",
            "/sbin/ldconfig.real: /usr/local/lib/libtbbmalloc_proxy.so.2 is not a symbolic link\n",
            "\n",
            "/sbin/ldconfig.real: /usr/local/lib/libtbbbind_2_0.so.3 is not a symbolic link\n",
            "\n",
            "Collecting Pyaudio\n",
            "  Downloading PyAudio-0.2.14.tar.gz (47 kB)\n",
            "\u001b[2K     \u001b[90m━━━━━━━━━━━━━━━━━━━━━━━━━━━━━━━━━━━━━━━━\u001b[0m \u001b[32m47.1/47.1 kB\u001b[0m \u001b[31m942.5 kB/s\u001b[0m eta \u001b[36m0:00:00\u001b[0m\n",
            "\u001b[?25h  Installing build dependencies ... \u001b[?25l\u001b[?25hdone\n",
            "  Getting requirements to build wheel ... \u001b[?25l\u001b[?25hdone\n",
            "  Preparing metadata (pyproject.toml) ... \u001b[?25l\u001b[?25hdone\n",
            "Building wheels for collected packages: Pyaudio\n",
            "  Building wheel for Pyaudio (pyproject.toml) ... \u001b[?25l\u001b[?25hdone\n",
            "  Created wheel for Pyaudio: filename=PyAudio-0.2.14-cp310-cp310-linux_x86_64.whl size=63856 sha256=daf8e0c03667a39e5aa803a658fd65f26107493ea48b60d64ac3613b0629da17\n",
            "  Stored in directory: /root/.cache/pip/wheels/d6/21/f4/0b51d41ba79e51b16295cbb096ec49f334792814d545b508c5\n",
            "Successfully built Pyaudio\n",
            "Installing collected packages: Pyaudio\n",
            "Successfully installed Pyaudio-0.2.14\n",
            "Collecting SpeechRecognition\n",
            "  Downloading SpeechRecognition-3.10.0-py2.py3-none-any.whl (32.8 MB)\n",
            "\u001b[2K     \u001b[90m━━━━━━━━━━━━━━━━━━━━━━━━━━━━━━━━━━━━━━━━\u001b[0m \u001b[32m32.8/32.8 MB\u001b[0m \u001b[31m46.5 MB/s\u001b[0m eta \u001b[36m0:00:00\u001b[0m\n",
            "\u001b[?25hRequirement already satisfied: requests>=2.26.0 in /usr/local/lib/python3.10/dist-packages (from SpeechRecognition) (2.31.0)\n",
            "Requirement already satisfied: charset-normalizer<4,>=2 in /usr/local/lib/python3.10/dist-packages (from requests>=2.26.0->SpeechRecognition) (3.3.2)\n",
            "Requirement already satisfied: idna<4,>=2.5 in /usr/local/lib/python3.10/dist-packages (from requests>=2.26.0->SpeechRecognition) (3.4)\n",
            "Requirement already satisfied: urllib3<3,>=1.21.1 in /usr/local/lib/python3.10/dist-packages (from requests>=2.26.0->SpeechRecognition) (2.0.7)\n",
            "Requirement already satisfied: certifi>=2017.4.17 in /usr/local/lib/python3.10/dist-packages (from requests>=2.26.0->SpeechRecognition) (2023.7.22)\n",
            "Installing collected packages: SpeechRecognition\n",
            "Successfully installed SpeechRecognition-3.10.0\n",
            "Collecting sentencepiece\n",
            "  Downloading sentencepiece-0.1.99-cp310-cp310-manylinux_2_17_x86_64.manylinux2014_x86_64.whl (1.3 MB)\n",
            "\u001b[2K     \u001b[90m━━━━━━━━━━━━━━━━━━━━━━━━━━━━━━━━━━━━━━━━\u001b[0m \u001b[32m1.3/1.3 MB\u001b[0m \u001b[31m15.4 MB/s\u001b[0m eta \u001b[36m0:00:00\u001b[0m\n",
            "\u001b[?25hInstalling collected packages: sentencepiece\n",
            "Successfully installed sentencepiece-0.1.99\n",
            "Collecting pydub\n",
            "  Downloading pydub-0.25.1-py2.py3-none-any.whl (32 kB)\n",
            "Installing collected packages: pydub\n",
            "Successfully installed pydub-0.25.1\n",
            "Collecting gtts\n",
            "  Downloading gTTS-2.4.0-py3-none-any.whl (29 kB)\n",
            "Requirement already satisfied: requests<3,>=2.27 in /usr/local/lib/python3.10/dist-packages (from gtts) (2.31.0)\n",
            "Requirement already satisfied: click<8.2,>=7.1 in /usr/local/lib/python3.10/dist-packages (from gtts) (8.1.7)\n",
            "Requirement already satisfied: charset-normalizer<4,>=2 in /usr/local/lib/python3.10/dist-packages (from requests<3,>=2.27->gtts) (3.3.2)\n",
            "Requirement already satisfied: idna<4,>=2.5 in /usr/local/lib/python3.10/dist-packages (from requests<3,>=2.27->gtts) (3.4)\n",
            "Requirement already satisfied: urllib3<3,>=1.21.1 in /usr/local/lib/python3.10/dist-packages (from requests<3,>=2.27->gtts) (2.0.7)\n",
            "Requirement already satisfied: certifi>=2017.4.17 in /usr/local/lib/python3.10/dist-packages (from requests<3,>=2.27->gtts) (2023.7.22)\n",
            "Installing collected packages: gtts\n",
            "Successfully installed gtts-2.4.0\n",
            "Collecting googletrans==4.0.0-rc1\n",
            "  Downloading googletrans-4.0.0rc1.tar.gz (20 kB)\n",
            "  Preparing metadata (setup.py) ... \u001b[?25l\u001b[?25hdone\n",
            "Collecting httpx==0.13.3 (from googletrans==4.0.0-rc1)\n",
            "  Downloading httpx-0.13.3-py3-none-any.whl (55 kB)\n",
            "\u001b[2K     \u001b[90m━━━━━━━━━━━━━━━━━━━━━━━━━━━━━━━━━━━━━━━━\u001b[0m \u001b[32m55.1/55.1 kB\u001b[0m \u001b[31m1.9 MB/s\u001b[0m eta \u001b[36m0:00:00\u001b[0m\n",
            "\u001b[?25hRequirement already satisfied: certifi in /usr/local/lib/python3.10/dist-packages (from httpx==0.13.3->googletrans==4.0.0-rc1) (2023.7.22)\n",
            "Collecting hstspreload (from httpx==0.13.3->googletrans==4.0.0-rc1)\n",
            "  Downloading hstspreload-2023.1.1-py3-none-any.whl (1.5 MB)\n",
            "\u001b[2K     \u001b[90m━━━━━━━━━━━━━━━━━━━━━━━━━━━━━━━━━━━━━━━━\u001b[0m \u001b[32m1.5/1.5 MB\u001b[0m \u001b[31m7.5 MB/s\u001b[0m eta \u001b[36m0:00:00\u001b[0m\n",
            "\u001b[?25hRequirement already satisfied: sniffio in /usr/local/lib/python3.10/dist-packages (from httpx==0.13.3->googletrans==4.0.0-rc1) (1.3.0)\n",
            "Collecting chardet==3.* (from httpx==0.13.3->googletrans==4.0.0-rc1)\n",
            "  Downloading chardet-3.0.4-py2.py3-none-any.whl (133 kB)\n",
            "\u001b[2K     \u001b[90m━━━━━━━━━━━━━━━━━━━━━━━━━━━━━━━━━━━━━━━━\u001b[0m \u001b[32m133.4/133.4 kB\u001b[0m \u001b[31m12.0 MB/s\u001b[0m eta \u001b[36m0:00:00\u001b[0m\n",
            "\u001b[?25hCollecting idna==2.* (from httpx==0.13.3->googletrans==4.0.0-rc1)\n",
            "  Downloading idna-2.10-py2.py3-none-any.whl (58 kB)\n",
            "\u001b[2K     \u001b[90m━━━━━━━━━━━━━━━━━━━━━━━━━━━━━━━━━━━━━━━━\u001b[0m \u001b[32m58.8/58.8 kB\u001b[0m \u001b[31m7.3 MB/s\u001b[0m eta \u001b[36m0:00:00\u001b[0m\n",
            "\u001b[?25hCollecting rfc3986<2,>=1.3 (from httpx==0.13.3->googletrans==4.0.0-rc1)\n",
            "  Downloading rfc3986-1.5.0-py2.py3-none-any.whl (31 kB)\n",
            "Collecting httpcore==0.9.* (from httpx==0.13.3->googletrans==4.0.0-rc1)\n",
            "  Downloading httpcore-0.9.1-py3-none-any.whl (42 kB)\n",
            "\u001b[2K     \u001b[90m━━━━━━━━━━━━━━━━━━━━━━━━━━━━━━━━━━━━━━━━\u001b[0m \u001b[32m42.6/42.6 kB\u001b[0m \u001b[31m5.0 MB/s\u001b[0m eta \u001b[36m0:00:00\u001b[0m\n",
            "\u001b[?25hCollecting h11<0.10,>=0.8 (from httpcore==0.9.*->httpx==0.13.3->googletrans==4.0.0-rc1)\n",
            "  Downloading h11-0.9.0-py2.py3-none-any.whl (53 kB)\n",
            "\u001b[2K     \u001b[90m━━━━━━━━━━━━━━━━━━━━━━━━━━━━━━━━━━━━━━━━\u001b[0m \u001b[32m53.6/53.6 kB\u001b[0m \u001b[31m6.6 MB/s\u001b[0m eta \u001b[36m0:00:00\u001b[0m\n",
            "\u001b[?25hCollecting h2==3.* (from httpcore==0.9.*->httpx==0.13.3->googletrans==4.0.0-rc1)\n",
            "  Downloading h2-3.2.0-py2.py3-none-any.whl (65 kB)\n",
            "\u001b[2K     \u001b[90m━━━━━━━━━━━━━━━━━━━━━━━━━━━━━━━━━━━━━━━━\u001b[0m \u001b[32m65.0/65.0 kB\u001b[0m \u001b[31m8.1 MB/s\u001b[0m eta \u001b[36m0:00:00\u001b[0m\n",
            "\u001b[?25hCollecting hyperframe<6,>=5.2.0 (from h2==3.*->httpcore==0.9.*->httpx==0.13.3->googletrans==4.0.0-rc1)\n",
            "  Downloading hyperframe-5.2.0-py2.py3-none-any.whl (12 kB)\n",
            "Collecting hpack<4,>=3.0 (from h2==3.*->httpcore==0.9.*->httpx==0.13.3->googletrans==4.0.0-rc1)\n",
            "  Downloading hpack-3.0.0-py2.py3-none-any.whl (38 kB)\n",
            "Building wheels for collected packages: googletrans\n",
            "  Building wheel for googletrans (setup.py) ... \u001b[?25l\u001b[?25hdone\n",
            "  Created wheel for googletrans: filename=googletrans-4.0.0rc1-py3-none-any.whl size=17396 sha256=e23106f7342ce8f0fb72a0d9673353e5d67b9d63bf3d948e7534819c4e17117e\n",
            "  Stored in directory: /root/.cache/pip/wheels/c0/59/9f/7372f0cf70160fe61b528532e1a7c8498c4becd6bcffb022de\n",
            "Successfully built googletrans\n",
            "Installing collected packages: rfc3986, hyperframe, hpack, h11, chardet, idna, hstspreload, h2, httpcore, httpx, googletrans\n",
            "  Attempting uninstall: chardet\n",
            "    Found existing installation: chardet 5.2.0\n",
            "    Uninstalling chardet-5.2.0:\n",
            "      Successfully uninstalled chardet-5.2.0\n",
            "  Attempting uninstall: idna\n",
            "    Found existing installation: idna 3.4\n",
            "    Uninstalling idna-3.4:\n",
            "      Successfully uninstalled idna-3.4\n",
            "Successfully installed chardet-3.0.4 googletrans-4.0.0rc1 h11-0.9.0 h2-3.2.0 hpack-3.0.0 hstspreload-2023.1.1 httpcore-0.9.1 httpx-0.13.3 hyperframe-5.2.0 idna-2.10 rfc3986-1.5.0\n",
            "Requirement already satisfied: pygame in /usr/local/lib/python3.10/dist-packages (2.5.2)\n"
          ]
        }
      ],
      "source": [
        "#Importing dependencies\n",
        "!apt-get install portaudio19-dev\n",
        "!pip install Pyaudio\n",
        "!pip install SpeechRecognition\n",
        "#install transformers library\n",
        "!pip install transformers -U -q\n",
        "# install sentencepiece library\n",
        "!pip install sentencepiece\n",
        "!pip install pydub\n",
        "!pip install gtts\n",
        "!pip install googletrans==4.0.0-rc1\n",
        "!pip install pygame\n"
      ]
    },
    {
      "cell_type": "code",
      "source": [
        "#After running above cell(installing all dependcy), click \"restart runtime\" and then execute the following code"
      ],
      "metadata": {
        "id": "adUF3cg8rCBm"
      },
      "execution_count": 2,
      "outputs": []
    },
    {
      "cell_type": "code",
      "source": [
        "#Importing required Libraries\n",
        "import torch\n",
        "import librosa\n",
        "import numpy as np\n",
        "import soundfile as sf\n",
        "from scipy.io import wavfile\n",
        "from IPython.display import Audio\n",
        "from transformers import Wav2Vec2ForCTC, Wav2Vec2Tokenizer\n",
        "\n",
        "import torch\n",
        "import librosa\n",
        "import numpy as np\n",
        "from transformers import Wav2Vec2ForCTC, Wav2Vec2Tokenizer\n",
        "from pydub import AudioSegment\n",
        "import speech_recognition as sr\n",
        "from gtts import gTTS\n",
        "from googletrans import Translator\n",
        "from io import BytesIO\n",
        "from IPython.display import Audio, display\n",
        "import tempfile\n",
        "import os\n",
        "\n"
      ],
      "metadata": {
        "id": "GCkaNLWjpT8c"
      },
      "execution_count": 1,
      "outputs": []
    },
    {
      "cell_type": "code",
      "source": [
        "from google.colab import drive\n",
        "\n",
        "# Mount Google Drive\n",
        "drive.mount('/content/gdrive')\n",
        "\n",
        "# Specify the path to your MP3 file in Google Drive\n",
        "mp3_file_path = '/content/drive/MyDrive/Speech to text/Use_Focal_Skills-[AudioTrimmer.com].mp3'"
      ],
      "metadata": {
        "id": "lAqbDr1CpXFl",
        "colab": {
          "base_uri": "https://localhost:8080/"
        },
        "outputId": "fb95d775-a27e-439e-f255-53dff4af71b6"
      },
      "execution_count": 2,
      "outputs": [
        {
          "output_type": "stream",
          "name": "stdout",
          "text": [
            "Mounted at /content/gdrive\n"
          ]
        }
      ]
    },
    {
      "cell_type": "markdown",
      "source": [
        "##Speech to text Conversion\n"
      ],
      "metadata": {
        "id": "GudvT47APQgk"
      }
    },
    {
      "cell_type": "markdown",
      "source": [
        "The code loads a pre-trained Wav2Vec2 model for speech recognition, converts an MP3 file to WAV format, and then uses the Google Speech Recognition API to transcribe the speech in the WAV file to text"
      ],
      "metadata": {
        "id": "kuMxKVG3PymN"
      }
    },
    {
      "cell_type": "code",
      "source": [
        "import torch\n",
        "import librosa\n",
        "import numpy as np\n",
        "from transformers import Wav2Vec2ForCTC, Wav2Vec2Tokenizer\n",
        "from pydub import AudioSegment\n",
        "import speech_recognition as sr\n",
        "\n",
        "# Convert MP3 to WAV\n",
        "mp3_file_path = '/content/gdrive/MyDrive/Speech to text/Use_Focal_Skills-[AudioTrimmer.com].mp3'\n",
        "audio = AudioSegment.from_mp3(mp3_file_path)\n",
        "\n",
        "# Specify the path for the WAV file\n",
        "wav_file_path = '/content/output.wav'\n",
        "audio.export(wav_file_path, format=\"wav\")\n",
        "print(f\"Conversion complete. WAV file saved at: {wav_file_path}\")\n",
        "\n",
        "# Perform speech recognition on the WAV file\n",
        "r = sr.Recognizer()\n",
        "with sr.AudioFile(wav_file_path) as source:\n",
        "    # Reading the audio file as source\n",
        "    audio_text = r.listen(source)\n",
        "\n",
        "    # Recognize the speech\n",
        "    try:\n",
        "        text = r.recognize_google(audio_text)\n",
        "        print('Converting audio transcripts into text ...')\n",
        "        print(text)\n",
        "    except sr.UnknownValueError:\n",
        "        print(\"Google Speech Recognition could not understand the audio\")\n",
        "    except sr.RequestError as e:\n",
        "        print(f\"Could not request results from Google Speech Recognition API; {e}\")\n",
        "    except Exception as e:\n",
        "        print(f\"An error occurred: {e}\")\n"
      ],
      "metadata": {
        "colab": {
          "base_uri": "https://localhost:8080/"
        },
        "id": "-tDuImrwrVXP",
        "outputId": "92c4a2ce-05a0-4f1a-a041-ce03a101159b"
      },
      "execution_count": 3,
      "outputs": [
        {
          "output_type": "stream",
          "name": "stdout",
          "text": [
            "Conversion complete. WAV file saved at: /content/output.wav\n",
            "Converting audio transcripts into text ...\n",
            "hello and welcome to the effortless English podcast today's article is titled Intensive English with vocal skills by Dr Ashley Hastings of Shenandoah University\n"
          ]
        }
      ]
    },
    {
      "cell_type": "code",
      "source": [
        "text"
      ],
      "metadata": {
        "colab": {
          "base_uri": "https://localhost:8080/",
          "height": 35
        },
        "id": "noKa7RP9riyD",
        "outputId": "71742fbe-f7df-4e86-e992-93b4c338acd9"
      },
      "execution_count": 4,
      "outputs": [
        {
          "output_type": "execute_result",
          "data": {
            "text/plain": [
              "\"hello and welcome to the effortless English podcast today's article is titled Intensive English with vocal skills by Dr Ashley Hastings of Shenandoah University\""
            ],
            "application/vnd.google.colaboratory.intrinsic+json": {
              "type": "string"
            }
          },
          "metadata": {},
          "execution_count": 4
        }
      ]
    },
    {
      "cell_type": "markdown",
      "source": [
        "##Language conversion and output audio is generated"
      ],
      "metadata": {
        "id": "sMfUz7OVPUh3"
      }
    },
    {
      "cell_type": "markdown",
      "source": [
        "The code uses google pretrained model gTTs, provides a convenient way to translate a given text, convert it to speech, and play the generated audio in a specified target language"
      ],
      "metadata": {
        "id": "BU8SVCWdP_i8"
      }
    },
    {
      "cell_type": "code",
      "source": [
        "from gtts import gTTS\n",
        "from googletrans import Translator\n",
        "from IPython.display import Audio, display\n",
        "from google.colab import files\n",
        "\n",
        "def translate_and_play(text, target_language='en'):\n",
        "    # Translate the text\n",
        "    translator = Translator()\n",
        "    translation = translator.translate(text, dest=target_language)\n",
        "    translated_text = translation.text\n",
        "\n",
        "    # Text-to-speech generation\n",
        "    tts = gTTS(translated_text, lang=target_language)\n",
        "\n",
        "    # Save converted audio as mp3 format\n",
        "    audio_file_path = \"/content/translated_audio.mp3\"\n",
        "    tts.save(audio_file_path)\n",
        "\n",
        "    # Play the audio in Colab\n",
        "    audio_data = open(audio_file_path, 'rb').read()\n",
        "    display(Audio(data=audio_data, autoplay=True))\n",
        "\n",
        "    # Provide a link to download the audio\n",
        "    files.download(audio_file_path)\n",
        "\n",
        "if __name__ == \"__main__\":\n",
        "    # Example text to be translated and played\n",
        "    input_text = text\n",
        "\n",
        "    # Specify the target language (e.g., 'hi' for Hindi)\n",
        "    target_language = 'te'\n",
        "\n",
        "    # Translate and play the audio, then download\n",
        "    translate_and_play(input_text, target_language)\n"
      ],
      "metadata": {
        "colab": {
          "base_uri": "https://localhost:8080/",
          "height": 75
        },
        "id": "fhE7augdpTIZ",
        "outputId": "1f20be8d-33ad-4949-93ff-ad8eb28ab1b6"
      },
      "execution_count": 18,
      "outputs": [
        {
          "output_type": "display_data",
          "data": {
            "text/plain": [
              "<IPython.lib.display.Audio object>"
            ],
            "text/html": [
              "\n",
              "                <audio  controls=\"controls\" autoplay=\"autoplay\">\n",
              "                    <source src=\"data:audio/wav;base64,//NExAAAAANIAUAAAPx6y5gsh7fquIcwxf77N86+aIGgmJOGP6RcaEoB7i8NHzM3WbuF5c3IRT//Tvof6b+io2dZ//1N/NkDGHk//rAJDcz//pT1qi8TnISRJvz8XMa7//NExFMRyc5MAY9oAHPImEQSRErb9doekm07iwG0HOigaGJQu9IHDZ3BGLNKBTsBDLR5tfctr7NKZnDqRCKP+//9r0+dzH5RV5dp6eX38KmErjdPG5+xzHv6w5uvqxhU//NExF4hebpYAc/AAMObp9Xe/unt59pKsv7u2EQOfKHAQJy71OIn6gwQcku/KbWHPp3F5RcYbYR4xDZbfVaOP2p04ZjtbfIf6lJkWw3UArUmrFkvchlmIvxfD2ckFgFk//NExCsbsc6AAEvMlEoNByfgf8T2sjVGYzzZymdZSCidyTIDH1174ZDx2gwgFxGGOi1ueTjwYcHHBoPi7gQQaJiAocQ9YcD7BUu8vb0d3VQhOZSZ+zmOmJHuImqQ3JSl//NExA8Wab6YABvMlLyYK5C4KtaqKByUaiW3AgamYFOn3Pq+5EMAks+bXxf7of61JW1d48BGy65Y/a/7fvMI06UNNYQZ2KOkhdpqAnmD1rb2UU2uv+//WulW3U+1DBX0//NExAgUMY6kABsMlLaxyBmCJ47ECj6lUXIqLitAXwtUefrxJjXtqhRdFY93O/f3btjtuJZA4gxj/SNS0bNaxNtjOqwkZF1GAZFhRlR1zFovZ7ujKkYjIZDFRFza7a3r//NExAoSuaKsAAsGlJ9T2IcAPF9QvHc8sSIwXjVqrIa5UT6uMAWaUs9/fvkWNh0hlaAkroAEG5CGdU4R3XE0EtYIBlRi3XQOWR/3aQhXWpoEwaXvayHS2gtkPuMOmFGO//NExBIW2bqsADvMlGJ+GrUVX1WVGFgXbYhTTI1oiI3yObKCgr7efvjd2y6b67bt7cbzYVEqhElNwTspbEG/JmxQm6paPQJoXAawsaYfhQIl6fimA3Uq3/pfAgFwcL7j//NExAkUYbawAHsGlKkOiLjLEAG5bgi0qDEmm5vJVBMj+PiIgjUPBUXwG7DDl97Esfncv55r96p5rgYWhaw1nZadSs0Y0ZgfQESKFTpHFmV7aZLb0KrugHtAD+W2rOgJ//NExAoT4YK4AJYGlDGTf+YMBTPv7/4sBqQiIUV2VLGgSzMWrKgcTl9PjhIopR68qAIX8/++X08zoaixbKYV2I2dJ1VgQq48pB5lif/v/0X//ppnrUZg0411F0UORL1h//NExA0UkT64AJYacGKWA0Jkp7n8eCrWaVrVr6qMBrpCagBtBZpMtyIJ2X1czT6Sm9z6+iTSmaWTMSIeBUkxzS8UBt8+GIqNRV///4Wd/Twu6iq+oxBOJE1VmQeUGHL6//NExA0R0UrAAJxKlJ5iCCku7qTFIkEN0VLUTRaayRkLOayTjKi0Dsbzt0V+rP5QsWVyiIdEBQ9IYkiGrNPh0z///7f/4vrq33+4zwCInFOW4+wMGpBcH7s7ZUH0gu/m//NExBgRAU64AMLKlA9X1ko5V3qE40ZsNUACRcfyl+X6ir3LAUUdSlRxbUHsG2Vbjv///+ru+Kqq5lnhPw4aWsPDI/TuksKYAGa4LBBGw9Zp9Nb6WVj/XalKPkUD4ZZi//NExCcSqZakANJKlMqqgGBitqZ/L9upmshqDpW1E3s8wodbqKOwka7///+0g3/TXcMdXZpZIrOrxmMaOLsIQPlzdB3qHk9R3wojpSEP3b1/Mae5GGBg8tPEWSkJRVQR//NExC8QiZagANlUlEfoVKjh9ppM2X7///+kcY/5JQsqsd1nhFzIAgGLYhKGB0uKDT8BrbHI7H/NLT//5kb3YTWXtyje///9I6eUWRu9guA8LB4QYSYZaJmmQgQDQErI//NExD8RoV6kANGQlP////Qjf/kapO8+6+AJBHHtD1RPRes5uQoCgykATuuZyqG7Gfce4Sqdn9c1qaiccm5XLYzXdB7ocvStCxLH36WhZ5nyrA4HAwRRCF3BA0bVVav+//NExEsYIZKkANYQlNlwO4iSscD4XFSn///59BTF/b9wvorL/1+oNChoD4aVb3vbUECDPTcOPi0p+pxw/+oT45yXTPpnBBQsRfstjEuot66nQ9a2T15iswZwNPJvySga//NExD0SqS60AMvacEARMf////31/b3pchlN5OcqV4g0sCIj0UW3anOy+HJ1kQ7Ohj35n+5WniWb3Venz6X9SyjWe8fymWm6x5z/Qo/6L/LP84LFW1sPj3Tl/0FLmkQd//NExEUWIZacANaOlHa/1gYLfwyylHFuJyza3pdOlWE1mea3hTUoFCjywdEVqTKYclE+9JiJSTBBABljAtlkyGbBgRcXAMwQhFhxFcNiNkmZeRbX5x/7/0v5RjtlcwGL//NExD8WEwKYANwOuPt61KuYaez1////c7//p/T+xv0t/vrrJXrV53DOkjbRBl+aPcpgnjFodnqw5YGkCifyLj5QNESNAinBZQXFi6MC8ZFkgjfYjVv8p/n//9TO+UF5//NExDkUgaKUANUOlOt9BuZaeaYICR46g5b//nf/znelU12aXRalv/rti2KApwi+XtvWqtBlMA1RCuSz8Snr1cQChrLKqR77mf14zY5+v//rYf//o38zf/5W/MavlKT4//NExDoRCZ6YAN5ElGAjhDH///////UqvT+f7h5vTDz882Ad5eD8xqzafwUoD1WZdrUdlb6nFi/pq/fs6qUuPNc7+HK+///WQ3yTt+j//+hqbyCna0hAYl3///1P/3f2//NExEgSqaKQAN4ElDkxFX5nIlJXgIQEwEsOQ4yoRg55BNPJ1ZIkRJHVjW5qj6SFPM0N1AjulPSHS/2/xOMEBxEQBs8XB8mhLU//gYsITtRpP////Qq1hHJK8AyCwYND//NExFARWKKEAN4eTN6PAwXQWSDRjqpKISYF+39VVdIoKn+9DShOotDjbaPJmv6qBUqJxFQCJZAfD1LOiic+sPLbX////2bP9VWdpJmCFskoiNTWg22Nlg4uBAG/q+wV//NExF0RiK6EAOYYTCx3/zEAESJvHfKfJyot3m9BbuzRACCx6zsb/WICI14gDSygRqR/3FTF3///+xLP+nUqm+1eP+8h3K8Cgxr7txRiafZyEKwtPrVZ1L+AadXs6LA1//NExGkRyPaEAOYKcMEGqDkVhyFwQxypn4YNRIFKUhn7hAHz4JMcH27WsNvf+D9S6qWR5Z6JQA3ZpBwyumVUamRoEQZQXiQLKJqHX5AZI3h2bbgCshxqWrLmqCIB6ZDs//NExHQRELqQAN5eTDVR/S84sOd3+sJruONVJj+pZ66rQuM/IFB13yDcPg1Q0oXcqkUsXGNxuHZDoeMQbZMeCcp/fX8p0Go0GGKoZlMY6ATSKsL/5R1lQ2CgbGtKRGFF//NExIIc0aKUAN4QlNMu6R8mnpHUslwz1ODAmDSLephYBsMHSrt1ZA01FuUcycCE1f3oENnP4Lz9vFf/mbP3mFoyYQRHbrRlzkxl4z3pkEtsmDIiPmn/1ON/+3YhyzYe//NExGEZmaKoANYMlPiepNZhNVdYnkFdNYphD8FTGr2yAphdb/0oya0+9OSNx64qhLdO9ohAQZcvKMAngavlw775LD8d+4vXwgeDluQ7Ca7qZOr9F7+FX4gmuXcec+Hv//NExE0WWbawAJvQlOpv+/9ZtzF/xpRbgmrCxzrcAIooXf5Vi5qkL51GhqsDRt/ecsMX/L9U6/6Amz2uHhM+7LgCTdsQuUa9QXhv66st8ItRzwIA+SsggCuAlEzMcLMt//NExEYUWTq0AMPScMBHlf//93/S+mxlVeymzgg0YxiTnWh5BktqHMBA7PRxElc5+Ms5+OPw93ctNtCmpqHJ4hnsJAmQVviHm7iL+BkS9oIiMg5ceZ//dl/YDVBEfxWb//NExEcRUUaoAMMQccPxTSMVcGh11+aN3D3vX9k1+BoOUlypyzyYJ/nEsazh6PZiiQCFtqtULaYpTpOPRhSTJvcBgjxMbnN9ie6YENHZmNn1jfeq1eYjZzlyt9eG/3mH//NExFQZUcqcANIelLeuer603RI+xoZo////8q6H1ZmxzOKHHEPIV7cNJPmhNE7HXUC+Nbxj/9BbzMb43CfZ3mh6lxVOrqQUpGbrtStOoVoRf0bT7vH/9vF1/n7zrfrX//NExEEVCc6gAMlelP1LGtTeXkWsKkNzDSG/////pZSq1rdRo4Aws57XibcDHF4ct8VT+FXof/0fxP0fJxt0iWHCSqZPJ4I0s3PJE0xNFoF0qPuzKRvcwfpmyuSZoyJx//NExD8R0bqcANCalQGEPHURaa+PKuWcqV9jO2cqzu7DRW7F73ZR/Bff//1+h6/RMD55iaSAKWU0aBONEUFmJBTRSmpcQ0DF2eyRoyK0TOyky6ShqPBT////08O1LrwG//NExEoRObqgAMialB6CYFPhyNg5ia5+C9C+v/1+jf9f6L370BCHYc2DtBYSMjgxN+HEooOVtzRntOm9+xpze0bSIWOddnQ8zq/////owx/uD7B9mdjdMMsCQlnLCJPG//NExFgRgb6gAMiWlBPX6/RvGv/glkz6NQOEJuIABoDD4dA8h4LuYNiXf6KFX8oP9qid1uRSQZSqz67SKf////7kqVWqOeGQAVKk8bnEgmWAYImCeVDvKEfUv6kPHBh5//NExGUSScKoAMlWlIPgvJy3BIFEHJd6o2jE/L6IIZmkTDCdX9un+JZ/w//QT/NS09wGcr/////6aU39ay43IX5i137gM4Hk6T/JN/m5+bU5KsQA9N3IEoJLy4KQ8Bqs//NExG4SKaaoAKHWlCQSI9FExV9AgDFtGN6t6P6N5ypqMasWyD/////+pZOxljNMJMjDFpN61myUyO5Y0jvbo1a+MXaN4bxbAciOtI2rgepVU3rEl9W/z/f1+nVRwErq//NExHgRAZqoAMoKlHZH1+noqPoUoCVR2h+r////9KJ8XcVV//xUeNoDV+yafbsFBA5wrKAmLTl1p15Ih3BcvbNyRACxixr1jRa61f1+8+u/16c3v3ZJVIyZ//fXlKqu//NExIcSkZqgANPElGClGDP/////+oCuQsqe5BKcx0QLDnShJCHOPpFqsKZkJmsTaahPArXu8pMBvCyZ2d3V0zHGPyF2IXnf7e087laIUUr72m1mjgDIxC/////kH/1q//NExI8R6Z6UANvElHGKx1jK0dQ+KVuCwA0/1mKldxrCCQmzMR1rilFPIZ6bhuVZRuwtNmC/m8Ye98hnHba/TXdUnM88KmbneNn+H+vj+n1DURaenu8eH/+N9fG3zVwi//NExJoSISqYANPEcOmfDjgeIEf///lF/5FJRzKDdf/OOBSjNvroyLoq4VVvAZr24NzWzAu79LFrX1H0fq1DDIGcjlIJoE3LjmZmXrpmj1IL/qaq7XTVWdUbAoERxx1j//NExKQYmZ6gAM4MlIcLicNgQW3Nb///5T/7OtX8PkgXDSV5gYdKc9bEky248CAmRdvPpA2XvGwai+A1ruLieFYACLTkYwG2ac1n6ev9dXNVzx8SEB5R2Bd5UDGyW7////NExJQUESq0AMYacP/Sj/rVw5Nppndj/32QBB0860oEbyZE5YUWDhY2sGdTvbbXYtnZazFp3xAQKKUTjjhKLMcNul0ettSXS6KKKKzkrWdnrJKW6v/////1u/UqTKWO//NExJYR0S64AMYUcNFNDM5MTSCNVA0TBUNAciEZZBCUDVmpCoFG68FQ+u2AHWkjEm6xd8GDNxe2XB0YPQBh4i2/Ura6t+pdOwiKnk2/3iszyysEdEAk5/BlBClza3Vh//NExKESiSqoAMYacCxBq6XABiP63aLhZEBB26JgPFipmksaSg3tljbEXKev3uUMijtfK5uV7tX8d2/++kyqC1y6MAlS48V9ML9MJmjS3hlmbtiTscNyhsKex9ye/g9w//NExKkReSp0AM4KcD18FA6LiBjnmHrc4u3No0DdqM8it2bck/v55idg9ViCLVIrZsrqLzAc4mWShX6/MnmZ3Gz3l/dbdXHH94554apxa/dyT4G1BY+KJGCpqpQ8fDV7//NExLYQSIpAAMsGTJFNenOXEAuqre1dj5Oc10x2jdXfLOk/YqpdLNTjDFeG7gsOucl843g8Ewv7l0YsOqlJuQJq1Ge/+ROXRItut2oXc0RfCVFXqo+f+VgngCZ8w39///NExMcRkLo4AMJGTP/m58+FUWFkZJmyuq8/7lNTGL84liKZUqeNJf/P//XuUIe7+Q85yVVYScTYsHxhF5epev8///nX/h/P/J7+4NmmCMZKW5o8zFJNBQOq76bhmPHM//NExNMRULI4AVkYAPA5QRhoqme+bZLNntYe7TEGuOPawibtu/L61hcEoJZMxubATwcBc2qAOcAXgGY/zTQ88GNR4xTT/dbq9uZIr/bAaZpqOdvjx4LvECJmPhWMl3k2//NExOAgwypEAZpIAG9HlIkXA4fUKAgTPp+McPQ91mZa8ig1Ug3WKigaSROmhUo1ILZxocqaiFaZZEDLxk1plRmKCA42DZkCEHFO5cqZ4pKxZoLLed8rs5jw5E9aOxp8//NExLAhIWaIAdl4AOVgEKNKdWpU6YKqZouS9o64NblLTFSJbSVhE9qkUSG1qVZbHAYXxFla66tyGWBEg2bjGBwLPS52AuJG8+h+QsUAsapfY0AT0+Fr5S4qn6fXNOCu//NExH4U4UqcAMvSlKlvLlKyEqqbSQ3Z9pIgKhJalWa6N52Mjhl7HdGXez6WIXIvDqO2tRcSHM1o6GoYYx4Xkspo7hH1BzlxY3+ZwfTUlDP//+6yguqka+5+is5XvDOo//NExH0d4XqMAN4elGxN7FeS5/mfmEOxwRC1Fl1W4Yi19YvKQ7ONasN2uL2lIwt+lr4BIBpN81m9sJfH3DnXjE3CzShfDhi02wviB1gyP9Ihl1jNqMDNv7ztwfWzvDye//NExFgcaaaYANvelP90gOihQBNiA9GHN//4rlMMH4wZcDNARxZF/X9spHnuM317nE7wNCVC7UkVUCd9M4/mBtfoYc3/VNwhIPAuO1Gh9wQKBwDaoghBKUDbIQkWk1Y0//NExDkSGTawAM0QcKlHCJkMkDAXMQt//////Wqtz91CGluEzhSyoYTOZJ0bhUEwK3Qd8a3i3xMvx/UnCd01AMA8nYlIbFas69cQZy27DtxxE/XLv+3t/3THsQe8Tuep//NExEMR+bqsAMlWlLCH///VbWkEkIOKVrcBYACsEbx9nC39G9Q30HepvQat0E9+DBY5VQoJ7HM5IIInNJzTB+j3U75ZfM9DVN5ONGENer//6tJ2r6ubZ+EB8KJXVUA5//NExE4RQbawAKFUlNABYS4nUDw35R/FZ3qR8qW8KG0jMbhtRzRg/xaORIuE1tB+LR/Ul+/1byb5Z+eXXZkv/93zuffZvyLD+7cMVlJrZXfp19mq4ACkSosTTHqOZl6j//NExFwQudKsAKHUlP5NPfVJjCsWn2HwJC8sqKEIlGtlCWlWs7HDqUlSN079/0IPmaP///qBt3o0V3jTGZdEguoD2gQC0xZZglAEc7MQC4GxiDS2MqOabHDZGZPoqSUl//NExGwReUKoAMtOcO8vMlAK21wEeNr0+muCRVcsjniwKqq//h0Fnr//s/+v/1oBeodl0rcNHIarMol1IzkmijiEVKikeN2qU6nOOyknU6PUu9fNDtI6gZ4Brsm4rxVi//NExHkR6N50AMxMcEk2LGx19RHpGImyOnUq0NUd6aNtR/x7vRUAwJeMpVOymblt7fJLe73Pnamjxh7RdAfEQRaUbkrDc4UWxqAMyh1C/F0/ZUTTfi3ujWnIZtoU2fVN//NExIQSWNJAAMtGcLO5qUowpNGI6SQOBiTRBZjjnQCw1mLA5uUQBZjz/KDkijYMhkRipNDgtkhjzhgoo3pGMQXAwKnB6EEKL1UDGeFekEAZE3bR8HLNcPCFzWNTkbLd//NExI0PaE5AAVkYAO1mq3tKnmQNgVk4ayRrcS8fPHI86lSSRhxso0G+O1zOZ4lHivabpG5aTqNr6+5lLY7KHDo3ipAYxG0qtWKwxxKONSN5WLOpFp2vGA8D4oqBkuaS//NExKIgsyo4AZpAAGRcMMH82XVxEGyBRGYOqNVVbSsMUY1hK/WaxtfWcWIUb2T6KDUZyjH+NeEnJSnSV7n/jssnkK/S2pR2DtzKnqje7Ut3c/qvX8trK9Ttg3OOtRpZ//NExHIgKqpEAZhIATUSRkn043wRwL+Gv5W2pS+bdEdFhTGsjnAW0pl4tuUUxVNLO0svByFTYvl9MhIFMAVgtomSLoOZnHNwqQlogg4jBlpubIIH0x5DaMKOxWye6DIP//NExEQfevZgAZpoAT4w5QHqTl9VWh6zi0C/dv/si6dkCorYumSRkdT//umpkF01MgXSowLxdOnjZy8Yo//+u+3/ngr50NJ9EZVNQEMmIohpd+aCAMPgkZGjRFw0QIZe//NExBkWyTZsAdswAOs11xS+conoy/7O3/uSqG6oTVPHnvtRe2Awc/LWkxJqcrda7JdnPf+4Q/wsmtgp+5jf2Otu//pygDYqAVKFXolDNdXOklctMHOz0UpK9ulOluZa//NExBAU8UaMANvScABYEwKcRSI04nC98IQ0+jef7/N8ar6hSkJpAgJDbRsQHn7Bjp5SjF+/cIfaz3s6g5usXmTOA/Dy5d58ufFXl1v///+h5LsZUMCwGIVzA1tcwhol//NExA8V0dqkANPQmOJrUHzD9B0pGU5YM22uVrFcWe7+OpljNW5+dEGSIdQ6NUtKwRP8CGf+NM62MrjPfHCwCIB2qJhY5h6+X4h4XbPq/T44M///+hXu8KcYCNwOBIzp//NExAoSmZasAMtQlOgxpmp0nbggBCas6HlWaBfesnPqL5R5IDAspMvhelXLFl9w7T5c6vLOf8QzLk8FYPPdGE1fzfoh39ExAGqnwzJq/GtKRVA8xX+i8KJBjCbdTP8A//NExBISMbqkAMqOlO+DImviUOI9Rr0FnycacKEKUsewnAq04dHOoPW5r1QoH1QcAcQ6tzn53nEfPZqjW0FN9H//16a9SU7sAUhOzGFh0xIHCoYbWNXlHyCCNTpoKQTP//NExBwQ0UKQANrKcNQk9y1/qHuoRLxEV5XvVrZm6JajNxEdWd89LPiU6sNUf///TuTf+up5a0AqpCJ7OUTFBVt21UDliViudQgJhav8guya0znZTfdJYm+H8L6F6t0C//NExCsRKRqEANvEcLdfcThliheD//////U9ToAdEx4v+8QCyCdFWpPzrQxoMnMgGTBRNZiQXBRqkUl+rFNUAevqDVpfZaiADaXnTXsbebeY+duEf38b31mTUFs///////NExDkRAU6AAOQElNWx6zwhLbtViiodUYigWBjDgwzDeO8sxYKHhUxgGMlcTV5CQxKVpziEUl1nK2Xmeazu43J5lRy+QV8RbRX40nM/OZMoj1L1CJP///2/+v+ATNP1//NExEgSWT5wAVsoAPKqew5ZR2TeFYeAUYLHh4SWCCBpeZGVSmHYC2puv8p2JMyNCHDvH/y4dNy+IMFyjJEN+ZFQgh03Dpwt/A0AA8A+D8n1MgziTjnDySZBBmP63uhY//NExFEhAyaMAZqQAHPLZuSZuVCb/63TUyGtZsgVzMvmajH///8nxmy4jPIOXEFq////7+ykDBjA0LhfMECuX/1vAcKbQxeKXnrbksypnTcrUmVu/bv9x5YJ68y/nufa//NExCARuN6sAdgwAFQMKAiIMKqSIa9JSEigouiGAAFwVaTR3MrbkyCz7LhFBUYDP///0e8/5KagS7P5laIfAnHRcIwcYbJzE50i6RO1RfqYA84w4VBUJKHOW84z29yD//NExCwRES64AMQOcCx0Lk7jNYDffFgfiwYgRarP///2I/9JqtXDes5QWSWZb5ySDJ7WtcPocuXL89Z/nWzOmpnwVBN8YO4l+K27fr5hfo3Qz+DvUSGEaqj9F7nbo/M4//NExDoRsaK4AMPElEcDQ2tn///9+7123G3WGNaARHemrTc5KhE5Uw6w6gD3EASx/FKMlRIwbPYmh2KsRYRI4gZrWNFV5USE48X8dd9SL0VhCfqozechPx1uo6YEpENF//NExEYVMY6sAMzOlADafs37v/XWjFX2Zkc4Xedz1EwtGPH2O2rJimt7a4ojwJ0nWSlkZ1uUizXWYkR2WOpE2MnWK8LnHIyAxCMqBiPyegpOopuFCN4vEuk5EofNAE25//NExEQUaWqsAMxElG/qej/+yVEDi3ytQtiy3Y+IaD1oLMRTgPBR3upZgBfMbcuPaolvm2qcKT9iWtZosALa2odCa7S2h74FZp+BWmhxi5/Err8zgKkM79///p1ftdXV//NExEURCU6sAJtQlOa5XSUMVOHhUb5YUUOGMald1gNPZJy7t+j+c8zHn/ta/Gg1N1lxWh8IUg0dKBcPhAvcwPkxPFADgVAwi4TDVg4KkA3Mf////6GvupHxxYRXtpr4//NExFMSMUqkANHQlIEOwkVXy+BWbToX0f//1//zqq9ILMWKDQ6BcI4QnBkAKaSjqwyJs69+e34u5jX6u3LhRwqETxYsz/////WqqVbkREY4JdOVnRigYBOXyo/6FtoX//NExF0RycacAMlQlKW7/9n//11OZHIJiwSCDh8AAHEAAiAMMKxisYxTebyvoUqscWkGI6iLzr0qVZjXILCwcEhdrrBgsmTla3jBIQ9BSZATZQmhQ6Cut+r////+r0SD//NExGgQadKYANFKlKR2H1GkmiCC01TQbD1jhr7lr+apuVqOGuaKGw2Tf1yGaOlgYwsrjkoAcmCB4FgDWFhSR0M2s0oFr2O0G1I6OlAIYECpugQI1bND/Po84ucij1DQ//NExHkRQbqQANtQlYCIKpJAyNMkf/RvgZ////ua5DdaeWAG6jICMQVI3qGC8o4BkrjFauKzMx+Mt2BlzLqHVYQB1bOUFgUdzcsalLj/uLuYHdDeY3MblHk7WvUaYlP///NExIcR6LZ8AObkTP////3znq6KXbAjPxgKCHmGCRkm2wICgYzHBTHgJU2jM+ccMJsboSzU/ukT/Qer83Hs9f7PwMbId+fdB6mSJ4Pga2sRCqP/////6t9PkZiIucLA//NExJIRoPJ4AOZOcAcv2DdAi0zEuSeoGEys5kBJ/nL1PbxbmLJr86k+qGdzxtZc54S3cO+bkfkFucVvNqRGljJF/f//////6Kafe1N4DAAy9MzPAtEgOqcw+jzHoaGg//NExJ4RgNp0AOZEcJK9ZmYBA4GEsshtjTvxKFas50tTalaLR4dM+nbeT8/hEUmmQhBBDYlEDHOq6//////+3/qquBdNXEMFlRplhYApwlrwMfQFGHANcmcaF6520+9C//NExKsQcPJwAN4KcJEzSH8/45Fl5Z6kpFmZv2jmcG58FBoZLAm2/V+umBPEhYI5MEKEsslSD56Z6VisRM+Eim5vEiQz9TMzM9M8qiPV0Ttt2kta5qzrTPTPT3TMsN1Y//NExLwSkRpoAVwYAF7bC9mAXOCxc0aLfr5Rpw+yGDLWgquzlATKjB0ESLYJykFAzYcRJn85bKZ/PL+0//+VSXlGVX/Pa3GoVLqwralG7VZjYqFRtn4WLuAGRoEWiQfL//NExMQhwjqMAZpgACRobbiWSi9rZzVmFBCF3BNQCPmmEXkpI8Rb01HjwbS2DSQaPC7qb7+xuK7yFbkJruACQSGk5MNQBorgmGzOUDl7qKeGgOjkqFOaFRek0dDDY6LQ//NExJAaWW6QAdlIANpqNOrXv/GHn/hKJY3lPBVAtJmVdDmDjS0JXMzkfjlVWtBkPG6ExIXAjt7Er05FbdLhTuU0KS8lyQkUeBwRDmZnv/0EooGxlFCViqCOAJVJlccs//NExHkdoaaAAOHelKGBGLgcoS7bK+CG4AMyYESHi04ImL714Qe0iEdip2GMJEEMb3EZzFNvi+AkCQJBYIhwTAnEcoh44SGk44Fslg3EdDp7i8uFNdy87JLzi+zilut1//NExFUc+cKQANmYlPKJDX3pTb3YWOUaIHFEsPhYbqcIGs+iH0VaCZw869LW9ULYgb2CBj+y2IhYCZSWNF8sTGAhfR28r6GO2hhLplAP7Qo1dZxbKMpGblCpAIaFzMKd//NExDQYUc6gANCelFSo5q1ai3FJErLaXGs1xO4RoULbDetdZgXtZ9HcH+My6nk7zX//9QE+uRM0CCqx38qorKDmNJjyPJ+jy7H9ATe339T+j/X6kU+ZF9CxwfQ0Eima//NExCUSqbqkANCalEmlMTAoukSRJkoyC0S699JPrZ16RlekZF044NBLT///LGf+hQ9Nw7vKZHLACh3OdqCo14K/ceApff/99Kt6/0umiUUWMjUcwJ0ZmpgeHiSI2oHV//NExC0RWcKcANFalB0rJRF0mNTyl7v6290ndCidh9v/////82q7j+dIIeBq63Zwl4oCB3qWz/v//ifjm/iPm9qROBiU1iwQiokiQ+FnEMMlmCEPiG+ZAIdmtELl3mc5//NExDoP+UagAMiQcf7yHK//9e5gBwIRc2g+Jvz/qCOZ1pPiaIICMDA0Jzj5dSCNAQgQm5BxAgeH1vLwcl1O7i6EDpMQNa7wwsQalGAsH5CNPwwT/////8JCDJc48od5//NExE0QQZK0AFAGlGpWYu/hWYYNLHDWc0FodiGwikDtppObjmqpOfRO46/+/5Rb+uo//StxieivFfzfxz90iQPjYYOwudEV/////ezqH6K0RhmdD26xyAgbIIDqAGQt//NExF8Rkt7AAABQuYYjBqpozGU85c6hkfT5DlpkRnSLP25yLlEk+6fD1b+C9CXhyTcEsprwQDlAwZUv/L/////8hHC54d4WDcBeVzNfPaVGKjGUZlpfhZekq5MXkS79//NExGsRUwbEAABGuSMsy/PM88vpeXs3aKslKGSyw5D9J0mMSbUi9Va6AxqwBSB/TOX//tdtF2nZXahqP/NmlDGOyPcTKiPaocpM3rqVX+MeqqZM31Vb8j/+NrDWHD/L//NExHgRYw7AAAhGudj7/5Mxr3/6X6xqpdL9gxnBUPlWUKZgBQoPslUOhmCQjCE19eQjKNDXY1RgEqv/IdJjVdZSDOTBQKIiojCYaUFB5IKgICnZ7LPlZ3tw0z/YW98O//NExIUR+x6wAAiGvMJPlo8yEnrLQrUi6EmWLTwBJZ/CmAicomr1u1/TRmE7FTqmmVZwQEUEmsKvHaSZ6ywoKkB4o5mRTTSzvGqa9y13I6V/auhLGrZgSK5itSlQHAwR//NExJARmSJ8AEBGcHVA8/I5NHLXzf27uE/vne7+pnvK5VpUEBZZVZRpwVYwWF8bcgSIUKhAoGxllq/702HzOqlLO1LfX7EtOv9/i6pMW0PXZeEIKot34aR/MJgdv9uP//NExJwQ4Ko8AMGGTFmbNMSVPkuwOcLYHIbmqTFAOWMKJiMups4amaCyoTA4FUF7+gmbFBIkiUJAfBgBt/vUkyCyIJ4SBLlwolv/TQTetVyWHkmggm7m//6FPep06Ca0//NExKsRCJJAAVgYANNKg1Fm//9SCbtUxfTT1Z0zJRaZgaMmZl8uGB1UjAGopzlsDHVsycIMCCRoTMaZjoooyQZHjswwAT4UdQPRUSeMGBjCggMBHjlFJfuCAwxCcjBE//NExLkggypsAZhoAFD4xxTJc1zy6vsy//GMuFyNllk97uxK4GZz////0//s+mpczBXIaKk8cTDwYBgUCwgpAB9G60OBggrKXRCofBcJS54kvXePTLVv3Vaque5jXrwP//NExIoWEYqAAdsYAP/9w/+4WO/+7GX7vXy9fo36X7i45cgUEb5Putxeh7IHcHMCsA4eCNjRcp04HaxI/////9nsekXpZm+WM+CAAHS6gJASPCoxNFjdYMZvDkvJgoNZ//NExIQaQbJ8AOaQlN5c7bNThkFLsptsZEGgSkm3Ai2X7t8/9y/n/qk//meZ1P8/isZOPjhO9TOVR7FCLqxICo1LMPEno5ZnBZCnf////67OilH6TkaMAF4ahVVkoGFZ//NExG4X4aqEAOaOlIeyhksSMPrrwAhWDgtDMuMgIHgceJwgSAdAAGfAKCCZmAQgA+hPoSIr1DsQusg6HM31mfWkmuTY73RgCkmpL9Sy4rVTxuPEM4CItru3N47TX1////NExGEb0vaEAOUOuf//////26bUbQcfrU/iKoMc/bYAo6BDlSpoGIgZgP4UUMDzzKACSKMS7GkFTSPmMkZERDXTD022onVA/KUJaOpf+5AUg7vUOcz8gFEvdC0uXYUj//NExEQWqVaMAN4QlMoPufr/I/QTc5MQVd76N//////+elTNeGAHfdwxO4RhkT0OANIgYOYAa0E7jrAHLJHirt5Gs9Yj+QryUQ4tzOnRoH47LXRjiRXmS8O1qplTLtDo//NExDwRcN6MANPYcMlpYSmZVxFkFaEQhqXkqAgKaTUg9sKBe8DAk4IBHKy4BeYFCnvnb0Rn5mvtx6JQifTSqRMIbimQ4srnD0+xjIee++qz56GEZ/YA92fdf+H/+2ut//NExEkRwLJkAN6STdGujgRxYhwrxO4+KXrsNzdp8YeIcn/4VdXMKISzLa74o3JEkmJxJ1yQUQgg8bMnpiwvSAQo84trIBYAcmxhAmEFEMei5Sy8iDaf7Hi8f32URBc0//NExFUaca58AMpMlAQ+Tbe9zSFY9TvP39Af1N8WCGsgaXSirQFpGkEPuLHpFWllNSy3E3J/n+qoGnl5RIBAIBETUTgo8pI6Zp/mMYwYVmKVlbmKVkf0M/1DHgq4qDVZ//NExD4SKW54AMGElNzs9UDT1nf/r/yyEBD4MuOKhBSUuW9qyWFwdbmKa1lZufv+av4ZXslpL4KruxhnE4VJJMHRKJSJYLPjAq+DsTFRVyEXkHteSY/ZdrXi9Xq/P2e2//NExEgSiLJIAVgYAP8PVTQnA4icoa8AY3Q3hyLwdYYI8k7fp708/jtZY8eEAsDRpgfRKsDUDg9BbTrY+1CAywmkKkg2ou9GPPtUNKuBU4m+RiuxCw8TUmHY0OBFiFj3//NExFAiCypEAZpAAJ46uR3ciweiKJAfHAtFxGa5xy71xMs7RDwkRZpwtc3RdjRipWszKrXXXvSTXxM72vlO6FsT5KZ0qoVPEwrBGC4+THG5njp1Ksf3ern2ew0PVaxt//NExBoYGbqoAYl4AFp+qJOrpfXLGq3D85CLOlPURBb1K4R6f6/gwveFf1x/6f0/1m2/jea/P1v/6/pTVMX+L7xGDU0CwlR9nxVH+Us9JoLu/QK1rznaAZeFRP2110iU//NExAwTsSKsAdhAAEA0M6Z61RRUzlXvc5Pv5V/KOuXLxsC4cDtiQXgQGsEoBxdiRje6PPy1fv8TacoXZwEy6nVn74qB7Vx4wyT/////9KXHXKYYSL0sxaXLaMZaTeEE//NExBAUsbasAMYKlAHwiV346Khk/O13Jc7PPGA4OyxzYW1HHPjdXI/feTveKPqJ+NfoCUcaHT3gTxr9nyqnV3qxDujiuz///27uh0Buma3fedihXRO8vNzDJpHhuaEw//NExBAVMbasAM5KlKLb+sXghWPdEAFbXNJ/0+W9p+sUw5i8ajGu8uUfdBfxTw51D5dQmh5QoVKeo/x78c3FPE2TGk3U76N3/16NyksINapnped/McQLx5yQqol6Mc7k//NExA4SgbKsAMYKlGQzlL3sqS71h82pnLcsrjTJFvvJC0Htz2ZtB136k93UN5C+fx3Qc2NHiurP1fp5PO2kQdb/2f/4tXl96sP1dIVKwyjPspGyQJ3NR4OjMfy63K9r//NExBcQeMKwAMYeTLWfmd+Eoon1CLsqLblJCZDhrLc/29LlNlnWyLyobls9/dEtJ7////cLDBjDP6qRwnPSR7KJCV1Wz0tfAtNA/K27F2PjRNPfGLv0iEGW7tUhCDga//NExCgP2K6kAM4STFlXTH3QCbDYS//8p///meeAWjHPdW29Fd7+WQf0taQZnvpuL/fZ0y+pC89lPafg//2rz+nv6ffp5//6/pszHdlchCP5yT3Ez1MU6nyEIdVPEBxg//NExDsSaw6sAHhKuRAIQXEQDEzndCIrh9RNKinL////9+//////9f9v////XPb9WUzVdzXqebZEdzB5zDjy7kmHB5zzzix5VxS55woHCREcCcaDQcceEUmREUqYYQNC//NExEQRwxa0AAhOuYOiFv/Jf////r///////////q5769enpuis6dC6MpqmIYKEHyhUxUIoeea46QJuwnKlxEEcHkHgiFVQmaeWHzR4SA2PDZRWPK3///9f////+f////NExFARaxq8AAhOvW//727Oroa596MVyKW4gyNQbE1Ziu5Dj0SOKRyXHqIgMHjTmIHBUTMhEcTeR2AEXDwscPgUbSown/////i////4/7r4ua//Zr9prmpqVGCxrM1r//NExF0QGxq4AABKvALMv6lHfisCwsLNIq4NRMzEipsI3Qsd9ULB0H0ioghCUsCwKgbB0LF1BTTksg0AqFMAkeazapY46z3////3/l683/qi/ROv9NzJZNDG5lpupTVK//NExG8Sew6kAAgQucYw5ekyt6sZDKUrGdYVBSwrCuZ1bDOys5UVUcqlDOTBkoKqDm7XQlxeZ553NcHJ/E3DcN37nIURf74dzb20KIi+bfc20zyNhlpPL2GeUDTbpoDK//NExHgR+vJsAUoQAUk2STnPL3PG0SFs0VLFyM8fGP8zJ/2ebbQTvC8zqh5EeFbhOU//hOvt1aic5Q//jOZCUFAniQjDInKokXv/+Gblb7/zPtQv/Pv/4r5CTKxyRMuQ//NExIMhMyJ0AY9IATaWGAcJowi3mnhTJ12oVfI6jxtNXxfNs1kjlOOh5jqK7T9+mef76U8h6+ZiK+0vcSKpbfyLyjq8AIAtAmCwR1OMHArGKQPR7U8yBXPHU6TciAIZ//NExFEfIxaIAc9AAQ9PyQNtB4vFsiOQo52GDTpGS8UPS32vbioxpIwu+1tDRHQszYwPy9WWxkl6Wk2GWS4KTF5u5ahCqjJJ6z2wUNAESp+672+pbusrfRvUvy0Mvabz//NExCcR0XqMAMCElBjeiFYUU6VDYlGaO3HhL2lTqwlLP4SHuK6t0SrGuGeFaptK5gI4AJiVERgeChICarTC0UzJkfXSjLZzQ8S+bW40d24rZyaw4GVWnqXP1M23HKbx//NExDIZSRZkAO5QcHB2gwOgoLn5g1/RNUQ0Zan2e6wucnESY4qsqypqF45Rs22v6f6O3YXWMUYkEvKCzRY+lNV/4dWMYIDpsXZmbgOjlPAIUml1QCgjD0tEOC/sm5H2//NExB8WuTJsAOYWcAVixagIvfC97lW96/pfP0/vdMIlIOFeSBLm+VEJcOJd8Ndv6Xeqcafu/b2PRPot///xWU6atooBAbLHUIhD7OAaCzOkFBzjQGO2hEZgPNjJQ6gL//NExBcPqSJ4AOSKcNn2TJRFlqFwjfbNn1m/18XpUnICyqTsKpxZgif//VQy////ar/3oIWcjkZJQYzawGluROCDQsxtmMgCGayNsrQgR0gHg1MfaoFj1Wmf5uW3Fs/+//NExCsaic6IANrYlNh+2Xzt44P2N1sliOr84LDcZ2/7iUDiL0gSCJFf7/MsOb9H5mjk5Pr7Mcdq2Dypw5Cv9yUBg+GP//+r+aL1dSqtutMgcHRT0aY0GwVqxrAwhFoW//NExBMVsd6cANHemBQlqCvQk+vTyvROV6EPKZZc0gFuUsZjYDziZlJ3W1igLDu/QED77hv7ZMfOYn+1ZjWV+aHFytPbeE71/D6iH//117ui3r74tJtZ1FDx8BRTGAVH//NExA8R2c6oANCalFIsMrYR9Cf7dX5et+jyabuxwYGtQsA9prQD4SjqGMJwjOlJDWUGrdDWaMpa0MxJQ8pAT0zso2y9NeYdsmpBUWVIKlSkLLKaZJQ8twQ3DeXp7+/f//NExBoSieKoANCamKvw3J7vQFkfPHBPwHo+VkwLWMCkZkwvqWofzXUb8zR5vzM11lNa4/qexi2s2///9arm6zCzQnL93OhZU1CWTSmXzisYyIPNcjf+pO6/dwxtWxFj//NExCISEc6oAMhWlJZwinDweBoD8fJlgMpWaFQJ0UbrOrs9fCtfCn7TnPn+EVnzCT7aqrFSqxgAKCKvJdLAmrmMvx/jkBrVEU6cws3L4q+Z37R9uwv9tSqkvg9C03io//NExCwScX6gANFYlXw8pI1x6JK5wyMj9RtntpNa5ta81qaZz1fhDTnTaqOH4ZLBY6rwHGlNRUIZE8YYGh8l0iRiADT1stn3lLS9q547esNf/wzTTWTfsSaysDwjDmFr//NExDURUUaAANJQcFgeULE15JsFiRGePFkU+wXqAg8KgCdIAETTJU1wpCAFUr6+oLQcq00a8TAwACAq+hKCC1Cg0NAqWYLrCRWGQWPIoaZ2aDr/Ts+8w1TXp9qGt9n///NExEIQ+EZMAVsYAF/TOwVMokGApetLJEYtkii7zpPfAMgma+7sVB0JkgkRFHCA3I0eaOYyWVTReaYTWMq2WlaSWHLd5aupqoQ8knVBJxzRYskk7jvPnG7LKl7UNUYs//NExFEgkyI4AZpAAdSkRHM3VjLX6QaWww6ot7gePtXqYLZBp7OMk2miZqBg7gr9rSppxnNrPjUy7ROlHyWV0tqyioRG8btFLTXzoucnas+SBQ9alqEoH8eZf/8+spD0//NExCEY2nJ4AY9oADT9al2ceAxxKwnY0CUf0vWsLQO0SsFvJYcgxP+r68bBzkUZbDqF4PDZ///+MOfE7HAalAzNyXSNEP//BMuByBgLg4qNQC6KakSHOOPEQwYIAl2Z//NExBAWafKwAZhAAO9aXqQzd2RHUXPxG44fc//qls5n8fceOEMPhbLii4WsgeH40WLJEBDpFoRI/Mf62EEgVKcYH4QB72npxEUNZ0q4tiiwRKFqf/i1sZx5rQNaME9L//NExAkT0b6cAdlAAZZbYUxP7Qu022eLiz3/veP//3v5j/b/Rvxl1xJ18UJ5qSwkDoRihQB46MsRQbHMghh0dxV/Nw3vqvFLEDRgqOiz4OxSHdbVo+5TLlCda49zfmAQ//NExAwUibaYANKWlBkkbQL+MbAFF+b1PN1c3MmtMZ8805Je6th8oaxcwH0NgIXIIDqRXk+eNrh7v2JfxMc8w+biWTLCllnGvPIAYwLq//////Qqoq0ygUaSEbMM6MoQ//NExAwRAR6QANLMcOxo8ACnPeWnhIUrf1Lzdl7K9nX8PVNK0ZogDjTUUq3o6ceRry5ueQZLUCKs79dpAQiMFUrcWEQVg2WRlxzuwVAdAKyAQ7HRbTJGnoERdXDcN8/5//NExBsRwLZ8AN4MTLOvGDI+RC+9oNTmAJLT4CT0nYNsEpJZIRCMOano6riAsLPlRs8R/////8kVeGMsgEeMz05YsYQTnVJq1VpaAfFbGax9sWav4Gf4+qeFW1xIClIH//NExCcSCRJ0ANPKcAaxI51qiMttrvepWdBw9SmP+hRdoqDADFBUDrZ/////9VWGdxoRJR9A122SlxIdXhykAxWSIpxaa1tukyB5FVljvEwMqLDlkfu5ohPlnmpXEEfP//NExDERmRqEANNGcInC7xICI5zBriQDA+MDD8n//////QrH767DlCGKSNVUwwJ6IdtPzlsKIa7P026+1EXopc11YlenlEFoAhi6A7pwfT49wzRvPvMv/NbGU2Yg71d///NExD0SMcqUANCMlC2Qx93lgxecVf//rt6oSqCHE8SlbsmBnhDh7K8GTVE0f8lwc3iH3z2/jH30zImGkKWxKMexRtxQBh9/N2lP7m/3t77vLqbcPCPHugKidf/V0HZQ//NExEcQeZqgANBSlb1mCIR4CM4VTHFV+AwHm8j5++3huE+9191hIW5g4zdsMT8DiEMTIEFHLbt2j/523x5/zP4dGPr83H9V50FFJZwXYdlqxDQViRSKAsg9lxDOE5zR//NExFgP0aawAMhMlV8GfmRWQROIYKFpjj7axavZ5ZhGMTLHvDDXrbJxet6HTKzCwls/////76X/MAAuRn57krcqwhFjG1uMVMP98qfrpn38KG/3kytIlm73CiOxY6am//NExGsQsTa8AIQQcLfzDPbFVNPuUTn2oH3kEhVNquoiplNX///9f/Qq5iE5ExPrMQTIcB7K6FE4T6qcTJnn8h7PeVWu6e4wt6JBqH7iGAiBgIyDoKRSnJW3+U+VW7a6//NExHsRCSq8AHvWcNrZbsWGiBg7Vop9LU3+8tigIDAhEqjTRgCDnvJIQE0r9wU6bp0YjbeqJnywvXGPKSofDECopJQ0JBEGSUixqUmo45hRrmAaacs9fX/uhU0v//////NExIkQqTq4AJPQcNf/paTDVOoYYOqcSnlOoLKbdyacJ1sXJD0VNeLEE4fecLXDjUJ5c0HRysogHVX19/PX8fp7IxDSM1///ZX0nO4ud1e6X65znyEZa9lSrkQhzsA4//NExJkSMNqsAMvScB0ZXcyEohz2VA4ziA4UdlFzj7Myu4TAN2mdiIgBLu3olvqyqWnONCVPYQjluxWhGM/QGIF2l+EX1PpxiUeuxA2frJ/8/MlrWzamN3v8Zx73z7a3//NExKMaAxacAMIKuP+HV/SLGp8w418y7gw5aYnjv4GJvHn8j9STwljGWqC0QsvSqan5/rerNkSVTp+DdkmlPhYaI6XenqkoCgV+lwyxFGbm19Rp1mLmrnr9KU1m2FbR//NExI4h8yKcAEjevLDOfXQmrRwkdwGcRTpqhIiQjZdEbAFrX5+vTPzbOfS+P76+t5vfPxXGt6vJr/OcbxNFivov1DtW8TG4PrWDnX7/T+y2ocxXFqjMre/vPlgX4LI+//NExFkdex6kAAhevFQ3K5Mq56ztySOhqUS4H1CS+FOh9jQ9oZpUQtjQv//////z1v////8tv//+Z/dNlfZb9Gov2azTnuxQxRxnIjiSJdGKiMYJiyEWKDxQ8iIxQoXG//NExDYSUyK0AAhOvKKxEBw5QXOD4WHlSoljoPh0Vl3q//z//////////5VP/3//9//////x/7/HcUvpxKN39v3KUUjI5K7i46DjRDOx5VSYxR6iMQJxBKCcoQDAqDUF//NExD8Rwxq4AAhQvRcDS0Yo5y4Vu0gccRsxGDmJ6+X9aPkBKS+Zf/8/+n3////2///Uz6alW5XkMrsaordhUxjykl0DxkNawkIoZQ6MFVFUDw0SAEUhVd6/5oqnCBMR//NExEsQixq8ABBKvY5Ypm7GixWaF2fqtYkGWf6qQ5v+dlE53jMRvPRSKgHCEZbdBzkjq39dxeav/X+/b/9cRa+65GrQ9XeskIne9brEgIuJLa37bEYZ8Qv+zAJZNbzi//NExFsRMMqwAMYWcBhx31/IdjrfzQ71Vr/chtwvu6gm3Qs/kPUf9CjZ9iDB8QGJd9Z/DOJn////7JQt+elFu/vltrBHZIM91Ftgr5+8MZ4HpVosdCygrVVikzXWxOD3//NExGkR4UqwAMvOlKopg20VrcdAu/Q30H/jnx96IwnPaseMa8q/q+lDfYl37vv/06aBLVdW5ynpWsdbuR8kUNYOGK93J0QGhB22QWClFiFZwAehkIth1brH4M7roDuB//NExHQTacKsAMwOlFR45lggJ/8qq/c/+2Xr8implDy/nYzpsm7/Gv/ED1rBV9Wp+7/4t+6vXbvcbkpHJCftdE3dhsRPGEGtTfuwBqUbrOKnacO92jKV1n1rDU1/r8hP//NExHkT6aqoAMtQlI2MkoA4TqOpEf6nfJn7HtqaNjuaVJaxU7WHfp+n/////qWWWKXeJgM2Bp3lTAoQskcIxhABsNlh9pLGSK1sJw3Gy91ub+dROxMKm0KzC4THIrRN//NExHwSoWagAMvUlI3EH6Ib2Nahg8IncAiX/2o///X/0ZH0idDyyr0r1E1hworBuMg/A8ghoCNBkAg1DNtQ8pHbolZqH52cIQ84fzmduEJ0w3TFkZOXBMExHcG54wws//NExIQS2UqAAOLKlBucKVkB4O0BwAABBETM0l3tEd7hK//0Sv5cXZEIDw/Fmf/+HygIK12rUt383ZiisOmFhI0S+A2c+LNWkA0RNrPh5Fhq0qISEUuuJYbyNeaB+epf//NExIsZKd6EANpQmNVSm+q4eNbkOIQyikywkhLze86pJyPUml5sZidqhjUcdIBmorS6gLs0FHHns2S61vcmfnU0KHnNdK183QW1tVhl5rLQ6liYqLJ//9oXedbttYBj//NExHkfgeKIANpemDKvegLps0uDPxTw5SgcVBMPobmYyaxaZvfCIYUrsYxqozf/fM6t/zX/sMFsoOnEgLg6DkIVUoaKm0q/K+v9f/381K1ysWqkmqAi1v//yqpWiHWv//NExE4SSdqQAMlQmIKiVBGOSqcgBCSUoR2nljtSK7FeSq/z9/r/+vXr9f21RWzWMVjDugCMGHPMv9jqk1YiHLKmyR1QFDSgaPSPY9HXMskMmFOogMcLMS1FhqeLOpc1//NExFcROS5YAVgQANfeH7z6/K56dGOROeXiIIOefNaUUViPdJFfzHc5dFyBgA9B3UXLa0YgZCw0p+zKQJobTU0anuHVtzkPVv88vO31G1sKMx1v27Ff/OlmKzYh9MiE//NExGUgoyY4AZowACzEEHxj2GcnD00FH+8/czLppMOb/5+e73r3sZZApYoC1DRfRxOasiLswwQC6ZmOBRbGev9zltCSspdXXl+nJi2dNLV2f1qdOLOznCcVygz9Y3Il//NExDUdQl6MAYxgAAdvk+zmACqQbE4Rj1oqE4cjPIZ6emadPQ9tG/ryVPCWPx5Ogor/eZmZmZlYjatWdmcntX234bBBbf6rdqGW8ylImJuHtgb6AO4ncUGMgIRhcGQ4//NExBMVKgKYAdIoAKjJoHv90+5X+x0t+7LzLRUZ2C5rVZ1HIMGOKmdFUUFkDxzuIlQ+cqHFDY4iD2URQVGHDAsyDSDSED4lYw1bo+vfUrm6sZeENcB4UqcpTECChSRj//NExBEWObqcAMiWlJFuEAgt8GP6v1+H9Q/xZz20ucexAwAIL0ThsH0RjhseNhWM1CVdH1uLav9V3/ur4lRk3JgZ0EAGCCzLGvJK//14q+U0+s+NNfx77cALOlUr11kB//NExAsRKbqkANCOlI5PIb/4L5vT5fVOpXVVj6up6AVOHnY4bOrMIowcchUSC6tU31b1/9loiDpE81DP///sPNf6r0E3JHLWtXZgDU4FVpxCTAJyW1911/rl/5lzGMjY//NExBkUOw6sAHhEuWcP/79Eud3/9f/6nrSjf+nSciuR2SitdDuoczOAMEAFIdTuxzur03kDucwkWRToMHc5yHFuIRkv5p/l/////zQcw////v6///Wv1mZtH6PZHqjn//NExBsQuxq8AAhKvMidnVjIY7DHKcprldVKgm6KxmagmA4uNKVxASIgMJw+ZHKowUQQDlD/////////n//+P/////6/4732vfqImWdKnqrgeidvxqWciGVh5R8wIsGN//NExCsR+yK8AABQvCfVUOYkmhckUEOhwSFg2uFEQYGBYQSx7Sjg+KIf/////+f//5je65v+F5Tlp+uMcu3cUSxpxooXh1AeKIBgN5ERDXmChceLsYNgkHRGGCQUBQDx//NExDYRmxq8AAAQvQHjiodEBEUKA4IgDMVQUJGK////////3///+63P8vK3P4Qnrs3IQnvet267S1ZtGlCkMVxEw/zmyq9dURroy5EXSD0xIjoR4lAmcQJiIrAokeeP//NExEISMxq8AAASvSheI0XMslL////9f///6f////mR++sxmdlM84myuKuhB5Uc5EsRxrEOYcqujGYIhM4oICCK7nYQGIMFkBgEMNBxyHGBEBQMIgKAhlE9g1Uv/P////NExEwRyw68AABKuV///Wf///5f///1nJRUoV+tr1RoMUylKQ+z1o52laZ1EqKlCxiqAuVZ2QpGSoxoZ2BhjKAs4CBCpgzgICAinW6uthJBAG/cpyNER4xNQI+fSypO//NExFcQsyK4AAhEvMRvOjnYqGe3KVf///mf//90d5ZSo4UDHhgdJrBVQVLVD2YizwlOrGAUzLPwZ5EOhJWISO07xgkkYQJKBLaQdI7ngcFzFANHZbn3ipLVqVdCwOD6//NExGcREbKcAHlElDJMNM19t6jWp6hcLjhOJS746XvbBcACjthTbAmv////2//olsxK24ElYWq2qheQ2PeXN/GEjwChHEsOZ+JR1tv4mZoOooScVzDZBbVFbCcRmKYk//NExHURQJaAAN4eTIv+b+hdT87vkKEQgAOVznvO1unYOyelr3W0yxtQKZOdlC7faSpQcAXlm1IKDI+hWSO4aMyIsGL0hzCMCBRkjh3XbMpVYd6IebQwEFWW7rCmO194//NExIMSeXqQANPElUkgTf5y0/XZZUcn/lUvboJHKYkBOTJPmpeyk1SZ6ihz2FjZs6CIduCUTGcONK80qUd9Z91f1U4YMqqOBa1QDIg/EAnFw/DF/G43cKU1Tyy7AJwS//NExIwf6b6QAN5WlMv6zPlgMZqGHLZ2Lgzy95yjmyIV6xVT/CPNTqy4KaCOp81qQUFCMuca/S/83Fsv+p3/+r3/+ky/6CW2bgvj0iLwB41U9BMZEGA9aornPIxSPSxw//NExF8gwuacANYUucBORUEANTWkFN+vt6+Zr//pXJNL3numZR0a8/OIx+gUgZsDDd52Y0aRhEdLbT1D8kC01CMhD68DSGBxmprnZnMHE0dJHRwEDGQ7W8lgGlJRG8EA//NExC8dyvqgAM5OufCMdVXYx18zz+fNc//pv/9UX/rtFtIsyJYBRax4ddhuyTREPSJyRxjEhejOI551C1d/8/o+yo3Xv799XVa3f+v+rrURHTLS0yrf7oBDJtM/j4Q+//NExAoTaZa0AMPOlI/1BZNJngTizC83awkyUY5cAfbQOIsKmmcltQu3svx/8xPbm+/luPNwhPfImNHUM1PPRSx7mDpetNP/0f/I+/9kKny1x/+OGPQzlcoUFS7uZQak//NExA8U0Za0AMPGlAHnI+XQy1HnJ+j9QuzcHELHiCvCFFmdbJmi08zDmj6+HT49Psp62JGugRWQwoJ2Q1i1yy0PdmqQYyJwlZ///7Jv/VXF1f39d3R8icsTq8xb6l5k//NExA4WGcKsAM4KlDoAnOiyrR9mkjzwiS8onjyZazW3Wtuy3Gjzsx1vX7y3l2w0zkas/n9l1FxAweAwRM2ZTOhlerJVZl1rlUQFEWUz///10IbMb6dlaqWxqViJgBOp//NExAgSqb6YAMvElJj6tZEFp0Aw5A1lW4tUJxSyeOrdarxcqW3lhibzBTyqruQvw9TnitXralL/qZcxnRAoCJeoCJ0M//+pepWqQCD09K0WAipC+hgwAGF64YoH5eMW//NExBARmMJgAVwwAAEYUApgdCjT1UclMmaGNA2Q1r0lpKXmURjV82Di5ai5JL+4WEnHjiSQBGhJK+taRKthFv/6MqqYATOgkojwthyJVoRgmC4rqtz9YOowNC6Thp80//NExBwXulKcAY9oACTNyXH0YEcQ7v0x5oJjKB4BKBRjI/PPNFyRMjEkSgbf9030UTiKS//W9BDnlJ9aitP/9N+n+aGxqo5er/3B93fbiFfd3kqdIyTw6CFV7KyQt4fA//NExBAUET6kAdloABO5Z40eWv/Kzf/7D3N6svtRUswWbJGIsgkBcMk2c0QpLV9N9lIpskmXB3lrGrpPKYDflxMA3+l///9zFt+8oUoVx1u5Boz+jTYtUy0SicFo1MXO//NExBITccaoAMtKlAVrc6PL0y4/M0us3EpbNA2BwiqxoBivUYboK+JiQtZQ0UpoVu5W6erfY3QcZa9P//3VXzJ66UfCwsNHKbGOfG7HQO9VFbvAlE/NygmL/ZKAiIW6//NExBcRmUqgAMrKlNE7/BJJv8t/orAerRvHsCVj0VNYiK+rdStVhoFbiRfhr/DT1Bz///8qdlXeCu1VSoQ8scEBSOAH87z4oCUanZMugqhqCfiYJcsGpiXUVrsZKdGk//NExCMRqTpoAMROcOhzmoNlKEh4SgWissezs5qd/+/N9SIa//6f//7sZpW71FUKXR0YWHSLUyOXIWmYjPOC9YMHFgYCp6XG7jV4EkFxYSxyFjSx58lGtSduSOzadKeS//NExC8QIFJEAVkYAOnxTfYvftyjKzfX6FYaV0FutQbILuA1auQBIh4+ozGYceGKTLqyp3ZRf0NGsHghEDYgcSYyBPaChMm0ecWcOVj7GEComQZj8kQqWTN3s1Sj2GxM//NExEEguyo0AZpAABo0drYhDDr94NujyZvmqs9ekdng4cS5BRiLEO5VrCPU/VRuQiMgwaNqrFoe56iKQvuYTj6Qrj+BnFx/I+XiJtOFHIni7Mc5P9qBSm7+8oIWt88f//NExBEWkyKgAY84ASYwKRE+hh4jCIG1/bmBGEhcHH5jTz3MEk4Sxwn/MMMPzFG0SFLJ//1zTmLGHEHb/9L/8uYcp6GT1PN//8/z8z+7mJOUfKj5cfYq3O586FjDo2gN//NExAkRWTasAdgwAHolaMmA3CI8Ynp7CMZ3LWpRjnzmAiO/T7VfqDBdG0EQEPnjGzWjz87f///H8KDQWP7LO905CL6f/////XXdrLODCHhWyZ/TwnqOlwzal7aCmr99//NExBYSSUqkAMvElCBN7X/SVcb+Ykbe95ObG76VRLWVsEH9GTnbwyUgh7kcETDlQerBuoL1gGkz///+n6c1iyqkvXrb+GNBDVWL2IIWWcQ6gYUOi+CxS2vhTEqn/q3G//NExB8SETqYANPUcL6/U4TqTwBoWFNRhWHW0OL+d6mt6siHHD5UUSz4lOwWeWBrcr///+n6KnSjN6XOyCaCbiEA0B4YXaWAAY7PwLItWtLaqRrqY/yaZHZv/8y/l3Dz//NExCkSUN54AOYOcM0ShvxSASX5w2M8eVS1NU08vgwwlcjIo/////p/9tjqqrMhhcCI5mNk6eYLw8RFruHFBw4R1p5TvfoWRyPm7Ikfpx7zd8onVP/vd91xaPNDbCzr//NExDIQ2LJ4AOZeTBNjMa+CDKv/////Yi7/tcx9dYFdynfQZAYELhn6ZpXNbvv6AgQElKI2e/SxmJftTBFANGeiNMdTD7KpK1YbOAc8QQUd6zyGKq///V/9t+1//9vF//NExEEQULp0AOaUTBWbqux1sYWgHxpDxaclC+2RM25PiIFARJF7rl/aaFXf+RHeInwhCJ/u4gncOLPyd3cIiCD3NBAQQXxCQRGHJPB8/n/8+sP/1O+IOhXagsrUdlfl//NExFISkYaIANDGlP///sFf+CuRpOL9kUfCDAYIq5qEI6rACiwPUOLhC2EAYAQFtynXkDT329RzZAZwhCJ9b1JhYYTtYt5A5rC6/////7zsyW+YYxXFzhxCCiihlD4u//NExFoRKY6sABBGlEGxdwOA4uQqjxRXMKmOcQKjakZslVvU+p+hNLbq+9G/nU7nPouRnIR3UTPILnpuHjsw+Sj/////RJdr0YobBMeLgc4wgfYxBMVD4Ch8wdAck44e//NExGgSQsLAAACKuYxhouOGOyIiHYzZiXQi1VK+vqX+shNaEZHWm5luSiud3uroRUK7E2Klx7jK/////8pYVft7Zsy3TOrSnptzeQ8JmTFwkjfoiN0lTw3bLsq+W2/x//NExHISoxLMAABKudGv5RX2/9/X7Xvpm/+dRmS6C07KkwShVevQm3vG//9/5/8+P2eFMqvaUf0+Qx+FG0mEImH42apGbNyI12R9f3fKos9F/67d/6Z59BzbgNL/Mtrk//NExHoQ8drQAABMmfG3VX77JYYGVf/P////l+Us/KZL/t5/upKg/GhTk2MeZiaLsw2tjkUQ6ZDKm/Lt8lUjhLPP7eb8kDfv9//Q5ml+3zCPV+FPL2nmxdHXy2uInP0C//NExIkPibbMAAAMleA95yrJPx29J////TJyJz/GrL/diTORpyISoGCtA0zSObXq63GrNas8v2dHBW4GjzBYseW5X/+WWEgLpJN/2CIlKsDiy3ulJEQKEr6WYN2OB5K9//NExJ0Rwa7EAAhMlczsoGxvFjiOewts/3K7k3yv1VmGI05pMwmQAIcULIULtDLAaaklAk4kj0mLZlsOpxXLZAFVneAXSEb9/XGXt7eiUNghB6DD0drysF49mZY9MzOa//NExKkRqY68AGBMlGma9NDeXbu5mya+TbYdoMWXdlB5js6kzggk0HwYHo+3fCl/07+H18O54TdOOupV7rHMEFX/dmGBhV7mSIjxlwD8fNZDyWagaOjnuuX/Xz+kDV3A//NExLUSMU6wAMmMlcyUIEIGv0mCbfrSvhMi3zUCtzRtClgBvRN493m1Fa8TlSWCLiqlrVWxBeIJCHKa+YA+aMSiVYP4twr6N8FtWa4lbMe1f/9/tfyKzwDoLTCmDoGz//NExL8Rya60AMNWlaKsXs3wU0ySHIeyFRUU3orgV+R3gv+4Fd0VmpRG3kMXAzthRvlF2UmJPA0ttBMiaBOQ7ED60yILoEalkyTnVP+PJBaI/UTV7WPqVo+ebRNrpOac//NExMoSCTawAMRScb3f/3uJgwKf//4CIN//QpKYzuStQU5wMUJgyBxkmNRMzIQ1AfC1kCvljfxS/neq9yahv3kTFs7gathgePIDI8eKw81IqDyY+o8BBDLvDENMMVd2//NExNQR+R6cANPQcVIXvxOyadodjEAifLhYEC5cPkFh+UCByJxxhLv/993/ylWJXoChsVeG6WtGXOmkm6egkXyaTBMUABw19/kNlUkzO1atIjm8mUafpvd86+zOIcqT//NExN8SOTaAANzQcNbSFL5uc/0uAoBZDsd1DUOyPfYiNEkITHCQw6Ja52qbMMssioMiM6Kwy0KCiSpxWCGC6CDMKNsIH2lFmkm6YyD4Xkjz2IMT//VW8wzu4tUJ3lBr//NExOkZCVqQANvMlATg+t87g/xGShc1PPUAVgYQs4UkbHpS/t6YWGeTPeplZljKpWc/D/pnKaZZ1qiQHyfOxDQp16g9DsOXTk/iJNKuHP9hsfJBo+DZQ5uNkX90jC1u//NExNchqe6QANYSmEkw9Mw6HKH3Zn//+r/lM5TVr8+w0cPYM2k9LZKpwbCTsj1BIKiqOX09LSiVKLPCumO8lvm4ZTonJXLrKs9uXxKniL7Qu96YIm/6sUt17ITf/5Vv//NExKMYCYqkANYWlNJkJXYeIIk8GtsxeSswjjfQkEe+06y4skIleLjNziYb+z/VeJgsFyv/UeMq5u5NpTGdyGqAP/ScFQhtYI0HrboEeha8sw7HmvJwXNYMhR9Wf39R//NExJUbWaacANYSlKU7l1zkApekAG8lFl2XegO1e+rZqJbN+ZNqN7WQRKqxiaR1dIhmvNGHKYoyBTIOnWcX/r//9v//SbqzrVt2CqJB4SzerOPeZIShzVSxfOGxAlnN//NExHoYIXacANYMlI/lRAVBuOVa2wGthjqOpGuPVrUL0CES2e5aqshGHRqJCvv3lkf9qilTLtUUp75NES+1FkZQf2qSxg0BV////19H//6KkMPXIecU0WLD40HBztVR//NExGwXIW6UAN4SlJAjGYIoAmW6eyGiwOVcYuxRsZosPYv1clKili5uJsXKeBNIoQCj2o3f+xJL97mW33NPmKOr/KdH/////3hNUz/7nFQM2L1TWVR9fRAERjhmag2s//NExGIVKVaEANvMlDQTCmSmMQyFII3zRMwDGxnZkRczu04Rr6sQbUKhkteKgxWq2XRm7P6V0Joan//93/68rSlBZSrPs11hlVAGgS9lhgMDmVLmAmmXoZXE3DMLIEAE//NExGASITZ4AOUOcHY/NAQXJvpgl3y/H6/oK7Roq1SBTWoNY1YqIqH122f////+httiFf81DqGklUJjFMBUBmIyGYujRk0NBgopJeQi0zWSCYJzjzqHl6l01vwoKfn8//NExGoQ0Np0AOLKcNhQIVKlWbsq3DBQojBIIHolU9ioGLtIyP/////8rr/6P5FkoXN0Zy6qPQjCyIBWAaExE4lZEhybtLzbdBSXKyQQQEzEsHI8XOLnHGPA5ggqJtH7//NExHkSAMJoAVwYAGyBkHGXELilxS5YAbhPwg78LgBBAiDoMRMcgc0WodA7/7GZuMwTiBcNSaJ5ZcIEY/8nDR0EHQaRA4UyotyYEv8o6IHJOrQIzH+7+JAiCR15wYrd//NExIQgmdqQAZuAADWsWymMEwGilrRbQwHDkcNLs3Y7WcPX/9BN8/sikcf/DP+NncRcBkLdm5RUTz6Na3g63/4Nf7wHvrmjyNbP1if1Yq6AZ8rQnBP//////VWUYzET//NExFQT2TqgAdt4AEtDDa4AgDfvbMmAgBtv+LLL3Z7UpNPrxBpTfyHOB/dVuuhuhvMz6SES5gVWcZYa96En0KO+YQZKiOAEcctG9Dvd7TPYg7z1F5QWBU6s9///yzqH//NExFcXGZ6QANvOlP8WHKAVapmk3MM9MtZUKWYS15QCnnloQsPwJPZIWqbY52CwuNoqvDQQrL3RvAKyW16w1Tjf8u/83u3R0bBuVpwbeX29fv4djViDPU7///9X+2GW//NExE0T+a6UANvElIVO12uyHPNR43xwQBpMw07QiyTlQZvbVU3DaXnUwyYT+XzMh4y4AYiggekqXHsmSpd82b39m6PfHlnqFyXjvo3t6sz4PTan0////q07/XcWyKqW//NExFATiZaIANzOlE/KHTFDh106oUqYaJRxwGZvQyfMWiaHhvY1jIdxeo0VgDgBaqm2IC5dUvSDC1v4l//Y3v9/VtCgL7In//XoUUZYpS3////7PtpqcmmgsYBjOqw1//NExFQSkZaIANPElHCF2s0L/GKpxnpoPERtKYDQAQmeKp4xOUbaZ3CL8hC4n1SioDDIdjPUtf+Y33WyiUH//Uptamf/////5GpEmKYCMBg87lADcZ+jBRiMlBWfrsqF//NExFwRURp4ANvEcHqBK/twHZh29UlUPU2T4u7hl7z8hiMMcOlqSFKc/+X/tgTBUzV7G4YYWF4CW8fVgmQzxADnFNBMGtDh4wZ8M3EU5n5UrIxyO9NUnPw3Ra1MPRRZ//NExGkRCRJkAOYGcFuni14iCFOdXaHO36v7Tn4RlIq/ZPlxY7wuIBB/////+lX8ONhNG3hdJKByYece+0tethl46H6k0OIygb4h9BkqLBjhCgGLnOMD4uiEIxQ+QQIF//NExHcRUQ50AN4EcIBgcyEP//6k1OdYgHxf5PiZmQH/+4ZZBFr1sqpDngJT8yxnDj+Nbl9+3Ej5QGVpJDVUPB0Pqg4R6kkHi91CAI0y2/uv7/n/X+r+RJMrI64omGFm//NExIQQ8ZaUANCKlRrK5Y2jIXThNuSg0jaxWtEZdd/um7db//R+VoSWMLdf5jPQMKcpbf///dc9vWza7XJ/5OTnOdz53oTqefbSedc7uc85nkEK/YTqmoEoKaikM10b//NExJMQac6gANFQlf/+X6vgZuRZPP8lL9wF/b+iJ+lCaerkarqc571eLzodecQKPlDxGOPqhyNGDhYiq6DiCBQgHCCJzsZAwNGByqiQqAaAcgsCBAOEKLnq8X7//n/1//NExKQR0uakAMCEuP/zIX/P/VZ///7f////93//bf8yr7b8iN//a8uN95EN2l41tn5FrKgox1WlBdHCyiJGp56ilJojvViBZhsCgAUEExBZE1Y8wFPH1f////+lvvI7//NExK8VUx6wAFBKvE25ESzbD0KRysQtVIdrIdgRxJEUSOHhAWGh5w8cxTkFXKKlEjiwaPARhAWQgWIliwwPDQcEjlBl////////+Pn/n+amb7qJir44mIRZ/6FDVRWN//NExKwUCxq4AAhMvdShTZhKKxKDrFz1E5drckCikDpCw2haFExQ08w0UBwRAbCTQRA+cwgYOTL/////79+f/tjPfx89/77LjM1ouG07Vft3mJp3zUVHXUWZ8qkju+ix//NExK4P4xbAAAAKuSmaNcMftmTdJptJgoomklpRJQut3uUaYrVV//////D0Sn///8n+//e/f3yPPat/SYyb4cNZC+1StFWOSqR+qX/az1WkRmuGAj2NYwpqrK3DsMVV//NExMERaxK8AAAQuQFHGMS0DMFUkh6jcZSAcSxoljdolu1+TY82VS7Gb6GlMBCiTHAATfzI6jNf5uSqGqqoUBAVhxoYlfP4dWlGf8oa7Q/pXYmZlJtasNZ958+MXw5///NExM4QGxq8AAAMvdEz7GxRQoJ4cFDoJrov74Ni1YYxp4aVVNSPNcSAwdrDOjGLDjQhvCv4YlLD3X5jT2n8ltq7k1t34fpJtsACIBIDNA3Plw1NTE6YItbX7+mncwQP//NExOAQqw64AAhGuaijLmLFME1B8MNP4gyP////+1Cv/3UOxohiRArtxp0jFIg3BDKAiX4LINAO/Y4vCBf/joOE41/swFCLvbXChQFqSv45fKN/hsm1fwnn70j8cHCj//NExPAWynaQAGDGuU2RYdX/uvL3Lb7tt/g+K08HOoowgC1kU////0L8ANFWjP529DZOOac2SUuqaUYTOHmvZhkgI00UkkLWvi1FdVZKDrPoqUF6SfdlJiiIVLEjz36i//NExOcU+Q6IANYacMbUHhnCpP3831fzvNLtVCtxbR///9O3+2kzlNyrKiAGcIhD8Ny2aNFpGluVXETpcz+0Ywnf/YlV/7EKj6tYoEFXeoJcde3duNfoNbh4q3CIzy/b//NExOYYQZ6UAN4MlNn6t3D1mQJD89////W//9SVeWHYYXmCE45ZjLmKApzAkKMrcl4to+dKOwUyl+dTCmpv5m3HOdyrOy7NSXfMRqNZ4YS6tnvH24MBTUMOuDASGIKC//NExNgS+aKgANQOlJUuYz/9Ko52exS2HCjFCVHvd///1f9oGFCyh1xaBkIcJnjkZEFA0LSSMDHTM1sFBjax5eYjaG6q1Lj/tavtrUFncrWkeNVo9HlWfLG4RGwPHMFw//NExN8SYaKYANPKlP4Hg0MeDQVhGx1ALiwcCIrSZVwn8p/L3Vy7/0RR5hAp9y/UyfuT/////1sQmp+z2IglLN5CIGYW3Qwc9PTAK87JLwNTeNYZ9fEBZ3XGJvb6Xq4x//NExOgW6Zp0AN4ElKXlVvMNsQqNltcy8qKV4dhLUu3s5dybQmdXk/EmVrYchKB0R4DyBB3DveHr/0390i73e77ONx15t9Hi5fbtRtZuFwNKNT//+lwRWhEVPMFniQJg//NExN8ZYcp8ANvQlNiAhZy5KV5GoIhmaHVVU4TmLAWya7RwwIwLJfzw8emaH/TMxzO2W1mcW9NEvUlgpmK3T8wPVDQfj4JR9cmD6dP1JgOlVjgIgmHa1BOrntrW9Q7d//NExMwe6cqMANvelDUasO2zTnHkDMdxsfNlTVrEZqf//////////3xO6Ji3JPSukYb02JbPy2e4conOgqdVjNBXBIadi0FQFQGhQEFB4cHAw6RNFdAHhORqQAiKLKRM//NExKMgUvKMANMWuYydBZkl0Zz95be1Pr1XxyOMSCjSMyidPlE4lpwCKXgse/2S1YaWROr///K8OxE9iv+JQVBVKkQUShGDjE2PNRBsWSoyBBClgCJCaAiDSFPFxZza//NExHQVmS54ANwMcLGHtfaYgyxLhcXBaajcS8rV23VMrmwTWsw90NOdDQtKBr2N/1f/+j/+n/0VLYl7EJJglDnSnYaOCyExNMmBwQFxQBKODAKQQr+nX0XDIJXt97eP//NExHASGLpMAOZQTNP7S4jB9ME2Ag4MHAu+tKrwwZCpDL/udhbyiPft//u9//6FUWMBhUbOaqQSgraVRY8EJAzO1vKpKvgZ1nlfrM+KJLWChZ33ct5scUt73zJiypgd//NExHoSYG5MAVwYAIgir++geDnMMosOQ9LLEt6X1ZlIemL48sSCduEvq/2Md8+nkGwjlHD4lgr//6ej3l2Pk92ihwsOEwhGChDjEGVp6en1/3BRlmQgeTcI/mKw0VDs//NExIMiEyZ0AZpAAFRyio4l1WIgWB1VGG0y8tx3/H/mp2VL///++RbwtzV3fPMkMQ6BBDhHAxyrk8Can1kRRfIivei0cgQl4gTeEehTiInhC9C+d3LQzReEUqU3etoR//NExE0WWxKcAcgYATZ55fLl3Q7mDczgwCrmyKBt8FCIEh26vf////98PyhQEjGpERfL12GAAD9Py258zssZRIZmIyxZBEsfFjQqLBZZJ/UrLElPU9Lb0D3HcyWxFebq//NExEYRUbqsAFhGlNY3HhHL0z8KOSmLGXrlxxYNn6GdX5/p7f/uq1Qwu4gA4fIrB893FAcRYeCAUADmC5cHySBgNAgAgXPip96EkjP///6K3+MqAyEgsLsCguDLrWas//NExFMQ4TKsAMnKcIDoAgejroDxOY+OeOcoQbQjOIALO6BWMOaWNXUR1nFxAOYYWI08i/PT/v18/zf6fGXPDGawyPt///9d1rOOBdzaZ6my9dJjStyMpQUTBJTi22g0//NExGISacqwAMHQlORNyvPC/SgxEJUFBKOVpM75HXyScmSHPbDCqbqLrZ75T+75+pjar0JtJJ5CtP///lR61+o6DXt7rOOJ0VdVLuSZ7FoTOnwwFpvF1I5/+F+wyiUw//NExGsSabq4AMKQlMx1XBeBcQMbDVvDL/Y72HcBg42G5KW3oJUQg8uBh6n2////rufTXamcC4CFRUQ8FotuTVH66kL9v5OZK21oxo2/KlfwfXUCwBrURgWBESZAvfYz//NExHQR6Q64AMPWcPsb9wt8kzXI5bUSQ8TVOvoUutijLU1f//+p0Mrl3sMAr0Ti/oNp0xx3GfgET/z2niablyrKYr36CK9192W/Bq6nGIa3ogeL43JP91/xdcXXwvXq//NExH8R6T6wAJvQcJx4FlWTs7F9azrU1blHUf81TUaFtdnAsTI8AkJcBCxmFyfst57xfBpeuJ76tilnCx7HIQIGznN9e3/SyGOxGKA0cDQcaPWEnToaFbP///12e5D0//NExIoQiS6sAMYWcHQq5fuwUOxHAlrthUWYkuw9Y79sPQBhIksgFGTR+EMYQQzwdCGl9/WI0e9QUCJCM+d9vP3A8gwzoRCdX09670kkIggO8nXV/eVKEHU9D3WkkXHJ//NExJoSCS6QANPOcHBZyM9SWEzrD0QjnSXfcEb4Pna5LOWomTUXCMYhKcwvIUjTj98c46dQoTFjY/19fTq/ObQ845zSW63//93/qcs8ILBn1J4U7Czql+p2+YswCWdA//NExKQRCbagANJElDRbqR6C3iltCfUW8eMtAiJLMgGjLD4rERjJ5ZXKi1J4rBjHUfm9UtVu3m0mshki8r///9P+peaxpjAkHiqKVI2GbcvyelWTtAjytoZ9A8TVuVub//NExLISscasAMLOlGR8/vPlWp9gmGUBBABSwYJBgOm7Q6KRX8kxezle+MvvvL9X8/fU5rTAHlPtbSqrhdgodiK1VYKQ7CsseOyK9amwS/zH6N0fp9uI/9vqILwbHyGB//NExLoSYcqoAMHOlBXDtJZDDpovMRRJDz5LKzlOY13Mzf02HzLL4prn55R6GUar1c3DAhbCwi++8Egy+EJ3gitGuUCmZ6Hd26efz3fMnpzrTTc/KmaxStTAQHkdVqEI//NExMMSibqkAMlSlYwTni+B9QZW1xr5Yrlsvlrb9bexufal3FzJ+wvWsv48QL////+XZNWg+vSmm48mjZSl6fKG9in2msBKdgBSFcKJkiEk1QifyZ1pfUpw4yb/yEYL//NExMsSAcagANKWlT1w2O6nRdPD3eHqM+hiPjDz5KVHLWra+7an7X7zP9vZf3pmC0c1PUOoVDDGP/////uIiRXndR8CcgayzTs7MG4SdjFybLmgCMbFgl9xVQZCXv+P//NExNYV6dKgANHYlIQqVCtHsChMKEnB4SvNbB0H1lFjvlhjUUWY3UjOoG3+2/rcViynw08sFVBYeKPd/////0KWSqzDwUGSuKSYiydQiOjUQBvFU+L+LSPGnkP62/qM//NExNEXkb6kAMIYlNFN4hxq5oqIFLUFoRNoHoPIeTl1Ctf/H/9ZsOeIgKo9QeSZKrDM7uKh3/////rqPV10rkALDmEjccwG48EYQyoFBY1uBoHdq3DIqeE3ccZrC1rf//NExMUUqYagAMpQlCLY9yhuEy0owDh95onVHEVbE2bI/Uetjgl//+r///RSqq7/7VKhh+GF5mCocZuF7WGoiwFFTKYgEDd4UQXcGEt41Ku6Y11xP9c5ZsdMBxNmUKCb//NExMUT6RKQANvWcOWKDW+ae/+DXWJDRcPijH///t///6rLE/v9VYrZlcwKdBetj3HyAq+NUjqKLoEeF5JpoFwkmrJskU2dRLun/Nv2vthdvvdK2/T+d7u93IRTEKYn//NExMgRqP54AOYKcEgg5mQU7xIpNBQEN///+I//pZG3sbUoMjrjBhBC5aLIDKFsHDrVoPtA4FDg5yQFhcyRURrqhgs047quNLRaabVq8bDdNsjOLuHzYZE17ySPVD5g//NExNQSGOp0AOPScOS3yM8qlNjUtxK0idhhmyk+URsMtnFkVVShdEtJ/r22p6nLy4cOf/7TlyG/Ul4kQroVxsyppJnYokJjVVwDAioHyzyamLN8nl5eP3z38/zHElix//NExN4ScTJ8ANxMcNO4BRFDxReWcOxIcYpLSh59ePc+HcZclvNOfZpsnCjFllr12l2z3j/mMUjxOUwQIwpwgTVu413uyXAuD/+XH+s/tBHEyMNz9gAOhlUuK0tXQFxT//NExOcckd58ANoYmNs6gRSnNDCUIy3IKw2rlKEFfc5rHUyh8qrL+wwFbDTqsQHVZu5qeUy9QMELUVCglvk2x8Y40bQX8Rz0j4YMHDQeDQ0RAjVfBiCQP2i0Z8WWjWd6//NExMcRccqMANBQlR3HvVr+v4b+n/JDrzLqby50sQSHARiP////srqq/nZgsQYOrVxAFO2SYvLFDzQk2Csw+Ovgp/K795nWoCBb00hIep5CEK54qAqYUcJQ++Sr4INv//NExNQRia6YANBSlSA4D69xWuXX9v0v5X8tLdxo7E50oHVHHCj/////1GrC/SIhmvo39lYMz9Q0pybgqqBkH7uQQo+ATvYCS17x7MnIi4f15NRtH2PNqvQ3K+pdAJnh//NExOAVkbqYANHWlJ9Ubv19ubobUBdR1bI1yj3////+mnA20owB3OAQR4hSGMIMzOEUSuEhSEM3KzkJdifiU/dszUabJREAYCipABpGSyVg0WBorr/S1YCU9bv16gLQ//NExNwVMZqcANLQlCI8Apb//////8O1MQEzHQwOGjKpc0AfQGoFGFjRELnGG0AxKJjN1O1gp0BLIIqAQBsIOgHwmaLg+BxoIkIfLPKBA8SKBkCtJhMuupFbagwqxZhx//NExNoSIZKYAMrElGrtvcB0qUx375m3qOJ3epcRqi64DIFNAGTjQqHITcAKLUFUabHl+DweKJWVhgIg/Rbwktxpfirr3cR53Zb389vGnshkW4JnVHfe/F7K/QP7Z/e5//NExOQSGJJwAN5STH/UkfVv8Of/Xza+7va//+2uX3Uzdbmr0OgvN6pFXxBiKZNVFxqdGttxULwJh2bSMyhzW5VDBATUHBZ5RM6StSGLel7wsvxyWNCSEihYcm8UXQP0//NExO4WSH48ANvMSHZcizYmerctKjVZCtwUFiztPW/lTGX2JeEEw1QSLY2DioGVBQh7RozdZ1Mo8KwYym+WuhhdgVMgVeul53e5sGvG8g4Vun36Y5TL0r8s6f+zd8ir//NExOcU2KI4AMGGTXb9vCp/Vww39+wa7tjd5zwMSYNSbVeEekkdtdt02Nu/hvdbuOufvXdVYiJUsF1lBVRFANIDDfgQhucYQGUvCRs0kBH61JedBUmhCHjV0o5ujXJa//NExOYSGLY8AMGMTFTcgyqu5tKVqiZ+qzK2EggwjCpTWy/A6Bb/HRnEJIJM6aoGAEAYoQAwE3m9BIDUIgGEBwDiDG3snWmBoXoA1MDZnwLEw1R6qamVgHAxpDIBdWRw//NExPAWONYwAMjGcez/ftEHjKFQUuOQOAk//7uvHIFwFgig4BnA+QdgYk///tsxIm4zBiRcnSuZonRmx0///QU1n7v44y+OWKDHeGqyfIuGRxtCdBRhcBN1kXcXUZiY//NExOoTCLI0AVgYAM9d+nDbKnGut/5C5TePpLEkxyopGBgqXByjJCclAlg5A4HWSxsD4EsOwWBmG+EyBVlA+Yj3GwtHkYHDdJzep2UddVHUb3SZJajFdFb1JWWkipBZ//NExPAlmypUAZmgAJIrQp1Js5gbLd1MgY1HrI169Z5J7vv0lrb/ZVBKp0FOYKbWIDKiJZul4ynstXKMeiWTLnfNAIiumXWFiCMZQFTUuXDliUudZqzD071mOtblIgiS//NExKwhAqagAZhoAImx6MnEdixFYvBigZEWEckfA0TxNF8vGzk/nDQymbpSbOJl0dBqZJEw1E3vPs9eyDuxppm61mZ9MwKBVrOHrHUk1KS1f/////7tX1I6e79nVWmi//NExHsgSwqYAdmAALVUilSORqq52VBAJQ9ewM95iVI+proJrUi+gGS+VUYZWRIYQBPR5B9qqObiJVMhhrS6wTNLH8O0MsuKBXaLUMVvhPstlbZge9Ics0CDBitYGAYR//NExEwfiwqcAMvKuAcNND40c4ojKyGIisiKStTFcRHmKLlIU6kciHZ0/7avb//+k1bLO1/9u90RR1UI0Y711bm48QTIE8YJGH3vzgMHGtnvt2KpWbTDgoWWvdJftu48//NExCAYsTqgAM4YcE1zGJNyeTZTJhP4rBkNrsk5ElPjPqu26Z+Z3Jy3Za9JrkSVcn3mHwCAUF0k0JY06ZIhMJEUhNX1f/84s8dd9hIdQHHDlQVgoM4MGgFGbtCDQkFM//NExBASUTqgAMvacIeBWMbLYhcSEnCTTsCIJLAjn8qYZPA+DeZE4SUgJIGZqp0ei1vR1eyqmUxiyc6bVRRbJSP/////+pX5fAYKGqyLtyDDU0ywloNa8qrCZBVjVJ9N//NExBkRqKqYAVhgAANSVJIy/GgKnp0HpiWboqvxNuDhdbCv2Wzqh4SKlahzUCs04UYm3/0f/9X+31oRNnIQssBc0r7AohR1KtuEWrV2XMSXVTZDtCehsDbHaZF4vABt//NExCUaqqZ8AZloAReAkhYBzAexlDcSRSHasljWs6fUm6kUe1TvvqV+mdPlpu6TLOJIpL/p0k6/QV///d0VavZaP1//pIl1ugxeRN125626MuWiRJJ5w4BYSCknmWr1//NExA0QKKn0AcYYAK8kSMyzMzaqp+wZh50SnVPKgq6G6jwlPKBoGuWfXDqv+WflnxF4NfvllB2WPZZQK9bg7LIRKqIGf/1V00//4000VVVBn/yqLTTTTVf/5VVVV/8q//NExB8RqAUEAAhGAYoTTTTVVUt/1VVU2/+waaaaqqvXYqqqpppA7f9NNVVX/uqqqmmkDEVMQU1FMy4xMDBVVVVVVVVVVVVVVVVVVVVVVVVVVVVVVVVVVVVVTEFNRTMu//NExCsAAANIAAAAADEwMFVVVVVVVVVVVVVVVVVVVVVVVVVVVVVVVVVVVVVVVVVVVVVVVVVVVVVVVVVVVVVVVVVVVVVVVVVVVVVVVVVVVVVVVVVVVVVVVVVVTEFNRTMu//NExH4AAANIAAAAADEwMFVVVVVVVVVVVVVVVVVVVVVVVVVVVVVVVVVVVVVVVVVVVVVVVVVVVVVVVVVVVVVVVVVVVVVVVVVVVVVVVVVVVVVVVVVVVVVVVVVVTEFNRTMu//NExKwAAANIAAAAADEwMFVVVVVVVVVVVVVVVVVVVVVVVVVVVVVVVVVVVVVVVVVVVVVVVVVVVVVVVVVVVVVVVVVVVVVVVVVVVVVVVVVVVVVVVVVVVVVVVVVVTEFNRTMu//NExKwAAANIAAAAADEwMFVVVVVVVVVVVVVVVVVVVVVVVVVVVVVVVVVVVVVVVVVVVVVVVVVVVVVVVVVVVVVVVVVVVVVVVVVVVVVVVVVVVVVVVVVVVVVVVVVVTEFNRTMu//NExKwAAANIAAAAADEwMFVVVVVVVVVVVVVVVVVVVVVVVVVVVVVVVVVVVVVVVVVVVVVVVVVVVVVVVVVVVVVVVVVVVVVVVVVVVVVVVVVVVVVVVVVVVVVVVVVVTEFNRTMu//NExKwAAANIAAAAADEwMFVVVVVVVVVVVVVVVVVVVVVVVVVVVVVVVVVVVVVVVVVVVVVVVVVVVVVVVVVVVVVVVVVVVVVVVVVVVVVVVVVVVVVVVVVVVVVVVVVVTEFNRTMu//NExKwAAANIAAAAADEwMFVVVVVVVVVVVVVVVVVVVVVVVVVVVVVVVVVVVVVVVVVVVVVVVVVVVVVVVVVVVVVVVVVVVVVVVVVVVVVVVVVVVVVVVVVVVVVVVVVVTEFNRTMu//NExKwAAANIAAAAADEwMFVVVVVVVVVVVVVVVVVVVVVVVVVVVVVVVVVVVVVVVVVVVVVVVVVVVVVVVVVVVVVVVVVVVVVVVVVVVVVVVVVVVVVVVVVVVVVVVVVVTEFNRTMu//NExKwAAANIAAAAADEwMFVVVVVVVVVVVVVVVVVVVVVVVVVVVVVVVVVVVVVVVVVVVVVVVVVVVVVVVVVVVVVVVVVVVVVVVVVVVVVVVVVVVVVVVVVVVVVVVVVVTEFNRTMu//NExKwAAANIAAAAADEwMFVVVVVVVVVVVVVVVVVVVVVVVVVVVVVVVVVVVVVVVVVVVVVVVVVVVVVVVVVVVVVVVVVVVVVVVVVVVVVVVVVVVVVVVVVVVVVVVVVVTEFNRTMu//NExKwAAANIAAAAADEwMFVVVVVVVVVVVVVVVVVVVVVVVVVVVVVVVVVVVVVVVVVVVVVVVVVVVVVVVVVVVVVVVVVVVVVVVVVVVVVVVVVVVVVVVVVVVVVVVVVVTEFNRTMu//NExKwAAANIAAAAADEwMFVVVVVVVVVVVVVVVVVVVVVVVVVVVVVVVVVVVVVVVVVVVVVVVVVVVVVVVVVVVVVVVVVVVVVVVVVVVVVVVVVVVVVVVVVVVVVVVVVVVVVVVVVV//NExKwAAANIAAAAAFVVVVVVVVVVVVVVVVVVVVVVVVVVVVVVVVVVVVVVVVVVVVVVVVVVVVVVVVVVVVVVVVVVVVVVVVVVVVVVVVVVVVVVVVVVVVVVVVVVVVVVVVVVVVVV//NExKwAAANIAAAAAFVVVVVVVVVVVVVVVVVVVVVVVVVVVVVVVVVVVVVVVVVVVVVVVVVVVVVVVVVVVVVVVVVVVVVVVVVVVVVVVVVVVVVVVVVVVVVVVVVVVVVVVVVVVVVV//NExAAAAANIAUAAAP8s2s8waY0mz/hxdZpgzPv+L9jFP+MO3yNIBjJ9GOdyjFCp/vxyodP+d/WbM//yfhoVnUv/+T/6FVnJSqE//9Gf53t4pinlj50wAA9awwAJgKNh//NExFMSMvpAAZoQAa2W8dXEYY1hKZEEsYUBCZDD0PDCsOYFgiWuMFASRIh9p6W5duFTeUBuPP6EYJ6nOfQQuVk5Pk10bl9UFDu/Jrzyp3U4Zl7LIfPc3rTgPkzmftqp//NExF0bgTZEAd1IANOKMYx91QtYebRVkNrFP3+MEAFEwFS0wXCI0HgcmRBAcYDBkYhjWY0hYDhWAIASoG4YAl1K0yENJdjKo7OyrOZp8su6yYv+t06gKAgpoESt7Qdc//NExEIUENZcAO4GcMRYBrU///693/7GJ//6lUlwCBBoGEoVPEZAiZBMTB4BmBkWZfAfFSCAA1OU94Hh0UKJhcbVd/pithT3887Hf8PV294W/n/UQYeLAZVbJ55EwtFO//NExEQTgM5UAOZMcPRu/R//0///3+lUhcEvYDASUsY4IPDCApIBoMgMlLSAcQgAsBR/MbLbNm9e2E161ubs85Yw7r8Vm9JmBkM1Zm0AkJh5706cyc1f/2f////u/SpK//NExEkR2NZYAOYGcKQtMAAyMJguNtKXMOh9DByCoDmA4CGOwUq5pEzgoI6AuRsnZGkLGtZx/W8szTR7XqmeHdnA6FgYfCGAnqXcgksGyhg7UW/7L/7/r7f6F/qq8wJp//NExFQUENZQAV0YALuDD68DKbKVvJWzUaCnzayTcG9MeVGj7Y5xLxgx3jtJfwvAwhQMRhRkjAid7490h2DALJMzEAExI35ibpjCEoShWSpoQxljHf8ly+Xy6YGhwoAp//NExFYhexqYAZpoAYPhuiVn/+Yny+cRPLdIllmRkcNj5PMv/0GX16qb9TpOpNaH//976kGW/SSf1nEHL9cmnaEbwEFZLBsSZSA9YoyprU8ZQS1opSTMDXP/bZMb7tGQ//NExCMaibqsAdl4AIp8Nx7RP28uDybK6FyRu8tyHIynqrbbxa8S/rVm16sK5jMzchxUvK6zAlz61nz94rn/G9/eIv3nTNRZbaz//2q/16VknqfHKv/8V5B75PMX5IUa//NExAsTuaa8AMYKlIX+4KFdI/2MN9dTHuFxm++/hDef/nBd3LdeAoE3T6ZnRH0ArO6F935x3Uj4wBUIdyOlF9UXmneOEAIkEX////9ielHV6h/AXxVWiUQwCG/pJoB///NExA8UaUrAAIvGlB/s7/Oypnvq6QJYqNfJ/KCJ4KcT8fWS6qRwjXeiHfjMheaEXK91SkSjAcNhxYIMEwYPMC7nAqDIPD2hD///9Fno/1LDv5REYzDff10LgbzPjcEm//NExBAUAVK8AMPGlAP6U1CbScrd9sTUUcaHHzBNVC298ih6kaz/VoUOOfDT+pX9fPhpsqzcGFCBwYccPA44KhwsSArTQFGL/+v/+6r1BA4aU9R0nQRoy9QoYdn+JS6h//NExBMT4Vq8AJPElCCLLttN0XB5nsQ7gGBgg0VyeL3XWt8MI5k+ZuUj7mKLe5QRauUMoWEQjNg0aSOBkPQq////3oxBt7kIMJrH/sDhDAi2xlIBTxtbw1nHr4vFEHYY//NExBYQOUq8AHvElN4dEmlK98qhPjp+6PlKhkSn8L8zfb0P83hhbOUDDLM9YI////+duRv0a9PD89XISC4e97NqnMNCR3s3ik5if6mFdOqTWZm0luPh8xAGyv1vd8Kn//NExCgR6U6sAMvElB+jivZW7X6TdVEuucWx6jBrBW0rR+lj53//6V6qxVlCnYTSwE4wUGshCqhkrggBIGK1a/zKSRmM2a1M+zjRGcwu2eVrbD1BiAaaHpNRtHSyHOdf//NExDMRAUaQAMYWcMOb///7a/m9u6/RAvu6ay3qE0jeUNoZL3KxstorAgg0AcvQF0Jz2NqYBxdOU25ST9rfiqLIxTsQ0Dvyz0F1OueFHuSLwmdQepVWss43SLY1u/R+//NExEIR8MJQAMMMTLXr9i6/qgLkDYmnCkcJh6pT1a3OX997jVyvWO4Y1vwbDPCRPwVQHSwoAtLBsaFixQmJjAdSqpzE27mKoSR+8os1/uoue/b+r97U1WBL1IK1ni2z//NExE0RCL5MAVgYACiD60vi7H4vOdpqdnDyNMFn1XmsuttmB1APLxUu8r9qdn3WmubmexznSytiCq5ucy8sWivZU82/e83JZeceTwHkR7trHIU22b6aOwjIDoHQOsvc//NExFshGwJMAZlYAR7quH7va869nDDnET2O8+aJpkxY6rSV8/1yz//72X1c9Tf9vUkFUD4s6gkyVgApcKO7OYGVSlc5HLFSV4S6xuiVTw1DGZ+ab63z+5MsGkHh6VuN//NExCkcmgpUAZlIAFQh1CxcLG1sq997c8+zZGgqKWU+ltfLrKv11QFBYTHThEKvW3fj/Xj6n/ncRIRTkY5rzwGS5c8y8ghaRcJBUIBUTVHZZlfPDGU1BVA2CcFvbEo5//NExAkRiJpIAc8YAFLM28R7V+b41i9c69zZzqERQdIELQoTcSSTMrArR5PufboAr3OUaPXMXYZRPkplmt9VaLrmvbbXehfQs3WqO1gKVryYSms7GZFC4/y9apJfutna//NExBUV2PZAAVgYAK13C3cx5XA4C6wmkgPvRqyEToZ5BWKmocMkGWIDlEDiMGDFSYreaJMIKU1QDIMPl32ylGPE0+cUX2PdVIj2HkkR4vU2iTxZqhAEnbNDUo+vaz7S//NExBAWAKZIAZgYAOFq9kMLFjIMLBkuVEISCxA5hnPh5ATB5aVpeCSmAMYNFRyUX2mkJBsgVCr8ESyaDQRHbRWi0JIFQ4H728woucQyZSbVRNFcH05QNxzjg8kxi+FO//NExAsUQyqsAY04ADk/OKiX/jxFxz+2eeNR5v2uhhhxgmDzC38+0+eNRMRFhU4l/9Xstipg3cdFY8e3/9//Uw8SzrOca5P/////RleaN7nohY+hot44vqb4tgbO/Uti//NExA0Uqbq0Adg4AABYnk8j7vL7mHf/GvT0e5N3RpQHhqagIDDsTQRwfvN3m9CBZ2eI4SKioae6G7v9PqvqqmmuWJjo9QieJT3/0YaLVHWZ70Ln63qnGpHzvaq1wsOf//NExA0R6a60AMnKlIxKzmqCp79QWP4pM8wDy78CQXOQTuKA/UoJ9wITKEQOKGciDBe2pT+rP9vVheNBZ33///poW1lXRkx933PCu9ABuRop85RMqzClr9KzqJJRvH4p//NExBgQ4bqwAMqUlPUL0v4xC4ZbwnAXnIqHCCP8iG/yIl6lQJShtqljPNT6H/Ob5xda3f///361wucp6MGFAQ8S5kXKCGxEIdsA0eoM771OxMa+FyzZ/+mKN841GQ2L//NExCcSaU6oAMvOlOkq7Pgfxfsn5pbqYPPV0HQW2G7Hjg1h8yE6S71e3/////9Swz590dUKpi1/jtkAjgoDGOWPr0ks/nc8Lvd7y1Od3HgEV8TJlHop1B5kd+/x/+ro//NExDASOUKsAMZMcNNkGW0SiOhtODIOGhKeQdPoPXTv/////9XX8zgACYQ2h77C2ypweM0mMTKmcSlNjec3WtfXjE7TdyqIJuxNsoVQLCcOhco9x5mUffz+EIb8m+op//NExDoRgTq0AMYScE09myuzIcF7XOWH6d/htoigcsr34IGCpc863MtuTEzxlbc3Gy5Xl8svarxutn6UJgzE6Tg4ApKJS5Go19q6u6yXzz2OZ5WrdzclIfOph+tTvL8k//NExEcR6Ta8AMYScdrrESCmtbivBp7fAnIoEbjMoSqLXuIKhopSCxTWYfAWFNQkowBBNkR9GU66zTomjak3XrfUbKFR7yReInO2uLP/////074+gpprYzB2fp4II5w3//NExFIQ+SK8AIPacIXylcbw0kJzFZI8IpYL8pjQDbQMFmQltNUlWW7P7+3362dTnURIMHOIMa6GSaQxT////261W1iHhVn2NRWQ2JOmLwJTS3hF5fQt3ANnt2RJC3v4//NExGEQoTa8AIPacO/bBhP4W8HNN9dux8Rfq3T0fqKKkoo1iBTNONdHiL8SJIup////T/+Glf5vSd5Eq/equiGEot4Soinbw1cWNYwyoQtVz909K7q/7fzs+v/PueEH//NExHER0Yq8AIvKlGO/1z9Se3m9PM/MXiQYh7m9G2E7SDdWn/9v/7lK+2jOvYZIKiLG21ATLT+vq0vPY5dWTXys5To0uiltaXLOlm+3mZRik3lblF7uVbidn/1/6HnR//NExHwSAaK4AMYKlBR3MGOBRCAxQywVMAeGJL//6Pb/+lX0QMUtouUgaoNjMKC8h49PzkpYi48/ynZSy23qq4KgsKp7WESZS68vvclt/DDTK/yf5H/L8zL6ppxBN1pH//NExIcSUVK8AH4ElD9f5UjQNcVq////reYfeeId6fqWZ+sEZcQsJjWnHaLhd1hmTpcmSRiLsIcn74jH6XFDlW3M0E9jH3ZtVT2iHyc+Gn1uIRLEtWOjRzKgwVKmlUvO//NExJASMaK4AI4GlIhOhZjnId67P//x9n+t1zmcoFbBnwtSl04MCmkA09NSs5sxlMUggPwjT0SPJTCoLF24PNgiPoV5cIlO95albjHa87zJTPcwtDIos1Ackc/a619S//NExJoVMVaoAMvGlEJrOkYFl7UddGe//7q3qUcXqUtBOwiq7+NqYFWjzIm6mGUAqcSqy15avCOPvj2hGv4hh5tcxEH93ZRMkZFwzW3Y84gCKEj7AhjHAaDGgxAgeBEI//NExJgWyYqYANJMlNABpNYAICAUetWnHKLXJ+vcZr78zUOXpRwsXUIGel/Ly6nTgBgN9Uu5oygImlm8YCosV4snevX9eonhuLnqPkbUjDE7Uc0XAaElHjKFHHtYgHsA//NExI8aQeacAMmMmKJZIMa+f4+1GlC5tKYXK4VcejI2ocytnYlYr22ZONEy4W0/EzRtfQ2qRwrm1PTWpo33qP4/vvdKe/9v8Uzv3jya/+8etqV28zr6tEo/+WOvtSm8//NExHkhcxKoAEIeuc/eOsQNbk96Z362gII///////e6vZeZm05B3OYMgcGwOKEMRDQ5Fg8k4dAjlmSIBpYiAUYDQ4RlLDhj9hp1Ummn2hl06U83FpULFRU3N+r/HCK8//NExEYXavbAAAiQuSXVw9tVaOc4+B1o4uMnlEl3d6nLRoBARf////uRwX5CLM44gNMMFx4cHlGsh7igYPEgccDBZ0EReNMc7iNiXodVNbXvn9WtZ100uvKY9tkS9GeQ//NExDsROxLQAABKuPqS+3XMvIeso5T////9758tqzz+25vnzf0wykk5iSnNfTDkhROZo3ar3NtV9JuhnmPcDv+3q9/vWP/TWn16cTXiFH/X+Z0Rgha7Kdta////9PMh//NExEkQsarQAABMlSqapUdTCosiAwhxxJwA5gxTCh1YEcKaKmBsuVc9CnJS6abmoblT//o7Mhruh2dj2sWnuVnPa9IDTwXPP5V+vBwBQae7V1///5fUuWZMbEvD2FQK//NExFkQmubIAACEuU6GFJAwQCFYVeyuwWiQwsdgw8AhKMET3M6PbrSpupUsWFzbwaEQsSCjBWeBUi1p0SuPPKrHeq95S4yc8WNyicoYHZRIb26r+v/y27gbl/1S8pTK//NExGkSaX64AEBGlCeOApQgAbvYYEBUcepByCRlcKTA5+0T6xdNP/1ODpU60x/ndb1VmPv5VV4mXVyl0jl9hqJAEQrR54F+o/5PqX1DK9v0OpZPPKZFIvhZksbrWbDg//NExHIRGXKgANCKlCVRXUdN2RRQcTw81B0Cgpa1S/UtF1Gqqdn//0VoqO4kVKmlz5f5flIhwm6FF81domPAvcOHGSFAiXk6GQjEtzZ1rPWT+5V+XP1x84PKauTnBXPz//NExIAT4cKYANlalPg7TkdxwNI6xnhXAEBgco2DknrSyptRl9xZC8+5FeZgWxrzM/tXHOvBFHSG/1xituxyhNFRMi393irQXfbTfu35pf/XbEbBhE8gpZkYpMoJUpMo//NExIMcYc6cANMYlDwjbQ4A4adDRVM9SE1/clP++xMmvuCwnK07zpXUPkTQuDhDYVaaKRf7nrV6yqNwxi1ozylfWsLO94tWDAp/mDNU+0qZlnmb//8BRHSYjzKouw3v//NExGQZabaoANKelES6/v/rbdDGw2p07Tr92oMkAQZ7rOEm/rHabv6in9zJ/pGrvyZHCQd1Ipj8JSECm5cs5RHITMmRQRTJxlai8db9/Ukuu1FjdPZw2X//jaBEA7B3//NExFEVMcqsANNglDOpuJLe//tl2jJTm2lbg3M8G5Au5u3Uor/WeP/RMG9Ril//s+j//FpFc4f+AfwmSddw81sfxlDgUFNVxCze/34U9XyRRywVFMYFuF5VJz/06SSQ//NExE8WSXasANSelGgqGH6LDT54mXRV53nbFO6h75C2jAFOqHX4BCmP7VlL6h8NvrL7fYs+owKXdRmG2Mk2lpmPUHWABUJkcOpouE0EHIJqYpnlF0vJ3oTBJ26CbNup//NExEgagw6kAMtauUXUX0Uy+avZSlIrq6D/q/r//6Tqep1JL1721aK9SDMbG0FvWO8DOawwqkJ3UmYAQBAOlVqSiYv5gf/Rf5mdb/82Zd/GtWaH31NDjnWLTBxaPHYy//NExDEX+XKkAKNelGSWV1YGqLlPRt199v4p0+oWlygUlxCFAOFxVwAD4JfpV+vIiphi2MpOuFREbYNW7zPlOvgMIPtZi8rg6UWC+kTCh5MUN5ymM+uY2qSl9e4//1as//NExCQR4U6oAMlSlHE0iIqKS5KSj7j6Ca0ZMIi6rXBwGQ0TMoc65CzFza0HP//+isd7uPiKvHCUnFOz1K74CBXrTNMIZuUtf7L//1sz+O7+bbNL9NMnB3WxxIGxULeQ//NExC8QkU6gAMhMlDWaNTM+kXJkHggUgKE3L/////oqapa5TAy9kFEqX7LXLnZgQJ8+jHJL3Py9ycOO4UDGFhArneqUIAdyEEbU7Dhz/5700UhEMcHQuMWPER9Cp1SU//NExD8Q8cKgAGBGlH//8p+qWvcJVq9ZNYQNJjy95Ssynpn51SLZ2J/tm/ep0BrFiElhSaZ2rMkEInuWCIBgejOjf2U/H3347NHdJi9uIx0NwE5mgOJsnWmpYyShIIzb//NExE4SAc6gAEiMlbrw5lltjkW1DXO+/dpuVLUZ0S4QxWboPoR0sPCAlYxsgFj6OR0nHTUVFuinKqjC9az1nvNhGZO5ecpumzKs684p4o+VVf7ctpTHc80GPRSKgU8D//NExFkSqdakAEiSmDdBS3LPoEa0z/+fz7InNWnUM6GSwSiKKUETYwTCENLxGpkEcinmOplJ+YmNFuXfGrcDm2Qg99Espdfli9RqpvzH9P+DEyNfHvobzeg3n9TdCdEJ//NExGERob6kAMiQlP5O7t5852SwQwJqRJBwgH064Djl7QNm9VVz7JqInbbe4uaiDVyBw5IZCCWvf///pd93cfEdDRmUy6NGEpILXcvIhj19C3nf6J7vyp7cYFjKaMBn//NExG0Scc6sAMiWlDRsCAcYOnA5Iq46JhyjoXfnJ1ZuWN4qHFMYRnVtp///+ZXDvM18B3MUblOrZPVditrnixPX1BNw/s/UV0G/1f4Hg1rYPACROvKyOO1ugPg6ncEx//NExHYRIcKwANHOlO39jvim18Nb73OvfF/Cps54ZfM///+KsX/F1dbymSEcZcW8y8YqlKGwFY9X8AesfRS/UY8e8eM5j8eNfUNnmqFgoTzWQSydHUVVZ1CsHS5rEQ2O//NExIQS0cawAMiWlOVbnerf803kQtHIhQdyv//7+p7yq3Ijw5NBxAUVw5nKEQD+SFwFLl8G0DLsf+/Y/A7w+FXOmBieRCAMKGgkJrPzXQhnO9un/9//03de2jefRvoQ//NExIsVEdakANHUmIQjTup3vVqEJ6MjSud53kYhTyCAEFCOdBMXcBBQgca9VpSBI2U1+SqeuZ7MXbndpa/87bOs6HxnQzTtNcTahQUU/3Lb/y7a2drfKY+HvxTMzM1v//NExIkVQxaoAMBKuDfums4z3zv06Z73nJxu17Zsyzfo1lX1c3lt+a3Xx01rNylm0mVUF2NCO3CaNC1QrWo0RPo6XFaG0YCGW0tTE4DgCgAj7y9pAPyxg9EcOSsTSO0j//NExIchwxqgAGGYvX2vIi6vLd8jtGqIDI+AZgs2p/K92HtkHnLdM5udPzs7+WmfrNvzL361IJy852v/0uf9KrHKY1fHY6c5LbTa+Bqp9sDXHI5LTcrukR56+2tA82YP//NExFMbAx6sAAhYvQ8jwayyR6s8cHBJMSKZD+6VD4sFYIDVfej/////L/////////p06z2pvO12rVa0RmQizzkdyGFwkAAcE3ERMogHVExggA4BhriiwZxINEkECAKB//NExDoQ2xrAAABKvUoICCI0UjQ+QSr/6f/+6tvpeudn1O7bP+s4kermseNDjSqFZE8fGw+TMEZRONR4YITRNByOiSNRaeJRNiJglkhcPEihgipR////03/21//OR+1T//NExEkO0xrAAAAOvX0mmsdo7Pu12qbQ6abVlNNEUSjxqRVI6Io2B8XNUaiKWceLjU1DojA6HSLx4fElEGo1MEUFoORqcMoEUDLip/FNdxHz///6///////n//l8P+H///NExGARoxaoABAOubH+3VLYuM33v6l/3pUBTsFUurCpbGuA0BIMaxwrgMNelWOGsZwGkZNmAyAxIaopqi3wWADzw7TWHksZTVbAPAMqLgg2ZQAQiYQkJIEFJyszFGvE//NExGwSEwpwAFhGuaow1JO9I9rj697q6hWtHa+2r7l2q+9Ot1HoUiozmd8EmlyR8NU0/I5bROfKdawdiTDiPuw+ImXZZ1YOAFDBReLit+RQPA/p4hpdouOWAXBuLgrB//NExHYPkDJMAVgYAHv89tzPuqh4NsGih+Hl9f/Er2mluOFxwcGoMBYLP7RNf+rRz3PbIKCghAsMKBoY4cB4Df5ur/45/55t/uV4jx4LADi4wI5P0kxJpIhoI8nk3MAr//NExIogOyJQAZhAAYS7Mx4tOZnJZekWkstf7wRy40H8+Np2fv1GcMLXmhuQ/9+fSOGaGPbDjjY2/v7Znzh8+wnm5oUHj5r9xVwzP2aQO8pDc3J7yHG9qtAmk02////X//NExFwhWyqkAYxYAKz7333GbloEYfxSPLG87jzv////83u+7jZDD6hz0dQpMFyQfULlA8myqq8ttTL0nBlDaOLxMwFWTtXjTjSm5T5cy7+/3z4ff2dPe7Tff+Ga8kFw//NExCkW0Y6oAdkwALsrAAYGtjE0+xelpvQSTAlczKZ/8bHm/85cowIhOJxQSiAGhUAiU6wXcVBU7/T/0Ff66qXvImww1NoeywHJFtJflNweLTnZwZfwQ6Dwf3NO8VP0//NExCAZ6daYANHemCTZxwjGqw8iid02wvVcIIPCBmw3UKc2xPIcC6VLqb0TrvdfCV/lx8smdfFmm0a9XR5ucaeMq3VbRtznmo//++WOsUuvpaUvTbFBjKmAmVvgJy0K//NExAsUCcaYANHWlIr7ADZyn7p8FHATFnAgDw3zvm+h3qb/tr++3XDwxIVKzQewMwjBqNyZ2vn/cjV8tSv5o1Y5zrOmzm0dJKxEee////p/yKqZpKF8CoAzCUrMygNu//NExA0Q4TqEAOPOcFI4aFAGCFiEbLlFjUHAqbwdE+AU2nW85OPf6OGF6/U70P80v/nGlLHOULq1zd//BURN///7/rqzVxsRswdDTjIRuSnVCYEP5wIDKruFQRgEW7ve//NExBwSSUJ8AObKcFODQPr97bjF/5gEP869RF+gkRmxgv5zK8weNSoqLuEFf////uz3YrGJP3791VW86/bMMGBZecvFjCYa05ABRJxIg+tbnVUKljWWEXRGp9f8FuJ///NExCURKPp4AObKcOVPzeKegi3QBjuWdSoOPgmdUi9v2qt///+vqsNRV6B6eXculKgRmFya6NJmyubGBRpoYQqb2juw2ocVZ/SBV9e0YjZCbwwXHAN5ReTQcQXAYiNo//NExDMR4H6AAN6SSL2CJ////uU79S/SilB/SyYvGvXeuu65jfMsnzC+jB3BXDdF+xNixZKzYqaFrxacmhMA0pDDCkCNT//+wMUKRohceTlzb34QMPnxAJw+TaKn0JJk//NExD4Q+EqcAMPYJBbS5kMcMVbEUHLOs52bT//+c+pSx8vP///r////u3To1Xe1udCuiupi0aROJi9EYzEHTodGIZkUPigpExggOJuQQGhTSIHBRZhQONIq/83////+//NExE0Rixq0ADhKvT2ab////4P///v///HPcT/rp3D711vde8vFzX929cq1qlUQmocDh5iwQ6NUGHjDIFBPVNQwgRx6iIJhtZIUQ9RckfPV/////////5/////6//2///NExFkSSxq8AAhQva6S564h1m64Imt6jS+97SXPH0XVD2gplCqqD9jjzEJqpJnLkXg0aIRMjhxppolMPLoyRcXg3kll/zo5f/////X6//6f//7J/v09NNJm0d5FZEcx//NExGIRox68AABQvBnKU4w6iKHUxVEBdEChRjiRBwwVOqC7HUjBwPi4mNIHR48YYQQrxcIB8RZjhMVONmMdVY4Iv+///5f///+vVF/+/r/LaVSvQ5JkeZHOz7WNXkNO//NExG4Sexq8AAhKvKtDsc0pSuGO4gzo5pXKVrHZQZNwxgThgFzBhWNo4uq3ztEyJKzTB4AgQFyQBoq06qgFLEJm3zo1LAXC2aU6US1bCNs0o0JiI0ArEoKutK8RXiVQ//NExHcQkv64AAhEuXRKMh06wGhE+5hYeGioaPMhoSlitdXN0yaAHcsyey2Ez01/5WKcHyu9Kre7fil5QUOtXBuEfVIj6fzpZ0LNuHQShxCNMqUUTFFHAiRQeSvu//////NExIcSGDqsAAvSBOeqVsUqw5ysMOBpvLLyiFMQFN9NUoykW+6+W5iX3v3K4Pw/5I+X7gPhNpyYFyVUEsEMfZ4NPr5//vfup5u6D0GBV4RHGanmW3sV9dXus6gygozl//NExJEQiWagAMoElH5YS3Stot0pDcrFbpqALEovzmFhKb95unv9l8YN3SQCUSMljSMIaM5gbp5h62bY/dR4pLTMyXNdZ9FIYiR0PxGbQQ30qt2C1gVUlsCuje3kFC93//NExKERiS6kAM4WcGfCx4zyYJX+G3mt/dYhr3gLkKyUgKmtqvLnW/X/mv03foO6zr2gDfI1utlkKb/////lK7qOhDpRQWYBb8f5SQjcbM43Bnf5IM427ae0b5gi2SsJ//NExK0SyUKsAMYacLposwVhJH7D0WzLKSWZ+j1GfUeEZYZP01PhmVyMW////q3Xedtp5lhfSBRjvZz4ObhrV4rW/y/BGjy/lHbFvmpo6/lfVztO33nCviYmjIk+U3L0//NExLQQQSq4AGvWcDdAL22OMRKf/zebqXqNFNn//+2vZLIWDb17tFXefzRDETDcutHMMB7/XAwhAp7QmpVWxbybxZ9G/849b/jmhKjjiSWwV+1zQgLtZu/+qpCWf5rU//NExMYRgSK4AJPacO0w8J3yfNl7RAKiAT0FIsCBtcyTqU/BMmNlTrWyxnrEzWi3Yyb1MjWEROYsQ76ddHSDOCVXOZmxxaT08iMwxWG59JpWZmZyZyf3v+05Ndtn22OZ//NExNMSCbqwAMPElKxrKU+9IKIa5MxyxfHtsdvK73L1fb9YVErx+41kBoqKhBZE8kHUSs8L7a9CjMCwdtFcZJzRKZGIPhWCa8pDo5GaEtIXieZqSuvx9PxEiqPyKZKs//NExN0SIMqoAMvMcJWyM8/NEiJs8uUAjCpNTBLWt/G9//V7Y3nX+fXOfnGqVnpj2+q49KZx77zBgYtTXknjLmFePI8hYnkximHTE7SyJVenyERHt2WC/VysWV1HYU2o//NExOcisyKYAHjYvJOmmT9xQzLOMZBJ0zkbBoew/IZqGg1Q0gc7PMr/7//////////+n6f9Pr33+lNnrdJjMlTZi7mO622KqtzjTTSCnEnNKlh5B1XGxYiPEi5AdGzC//NExK8d2yKgAAhevPCpEaBwvF5EciIcNSokKXJjjNU//lz//X+f+A////9v////9/R1OhkR2LS7dVKvu+dnRTR5lSIndlF1OQaZBUg4phERVRNxo0AQUDnd4mCBqiAq//NExIoSSxq0AAhOvTAHWdWmTUJwPtLHEMzSObeZmvazvl38NCcbvf3/7otv6////s6K3///K3KvUplZFUSZDUDOpRnKkMKCiWMsjibBmhShShhUWEdOrVfjJU+bUL+e//NExJMQ0xa4AAhKuajMPm7DzODB0qCLzzNxd33I+cqPcUfECmXAKmYIvORsIU0GBgxQkwdPZ/9P+nU4MRi+hCf//8R9zN36Kqt7KVjs0RiUADFnFJFpiBqUI5jQE8KZ//NExKIRev60AGBEual45HqgtqPotyv1LIcSFrGCIFQ0pd1L6qkaHR4dQaKszndv4KiUVcp6Vf//9dVyIzSJHmfO51YSRCiq6WpniUJNS/ZFSnUcto93Gw2t/cYnvX81//NExK8REbaoAMFElI/sx/pp6uQEz/DCm+ZLH8tHZzEVU7V5hxz//8+5b/////78MTNCzxsS8ULAtezt/1OjGqFB0E5eNIcVGiPcwlcjh+nt3HgsbpKS9+G0/lM3PHPJ//NExL0RCTqgANNKcKkftUD4Oz8GjSRXT632/+GPe9Bkm47z8GQQE75cPiAMCfPnxIcLn///7v/6aqXlWJGEsA7dHYo2xmMRkwxdJlzSjQBB5VLhLC8FNa5JInll8EPl//NExMsSqSp8AN4WcGfzqSf9YOBf5ybWXnVsziWDlUc4+CcEtzrRC8bttISW3ZIONdZUSyu40Mqll7NKo9ZzK83irfG/3ib0up/jG5IOLXZ3XxeNGERcIXf/0/0k9NtV//NExNMWUT6YANYWcN2rsEEsBnFPMRoBLlGKacbmEOi88WAlrZwhKyogvUPh/WPZs6NBu7D4HuXz4UBDTePEWPDCcSF65LAKbMCgBa8Q7rks3SFbuhtT46683jLifLqI//NExMweKdqYANYemB93///M2UL/tS0SSJjZPSOGcBLeW+EoaTBs4FAmegQHcVtoT6i3lRJRjgsP3yBYa18oBFv2GUUose2oDsrUNEVnOQd/P8Ov5dfwjX22ODh6LPUj//NExKYWadaoANNQmP//1VaK6qu7jRRy62GPU7XQ92+chzRlIgoo5gkbh5uTzdR2oj1L1AtIDENdw8GTsQHoEw0s2IrGmwpB7dueu5llX8Lfy79tctNV+NW/aaR8LdtP//NExJ8UUb6sAMnWlP/7et/9Iyrmcta0fAxN9DjtkkRyMO7D25axElDNxDd/L7aN7dBXV3MxUG6ZHAelqZPBZQiaIIxfl58uYjnt92e3vedqt60+y4YqaTL0jtMs8Lqk//NExKAU0eagANFWmO5wydVcjFL51B4HXfl0y4+WwLqPXR/br36r3/8W75plUw+SSUqcMg4PAejaCeTXpHaSSu0aWaxj381NbXy1SOHKppUBvZq9ng8ZxFKNUtiEUOII//NExJ8Sod6UAMiWmYTqhYBFAkIdhADkvyLx9P8J8x+kx2ZApYVADh1YKwcGB0SKF3VmZVG7PCltMwMrnabGNxddXST9ValaOrKC/oHGKXNpZn4qTfPiUGj7H4E3X/Tq//NExKcRsb6QANFWlcvRPmp+krZkcooMgvkQgBgPAgJB4hhAJhSzj1OGOy6Vc8czLQtk6O0Fi7VXtovtuXqd1DRqCN42zwtZNogKyr82uFgEHOzh7ag755nt087o/vqP//NExLMRSa6UANBQlVowBGUgCgok5gCCJnUcIklVuVvdf0N0ElMoCgr0OciV7ly8TC9EpaU42WFyzLbYxgMf0vEwBHRiJssZUrvOjkIIInSdX9H//P+aZusKe/6aOaEk//NExMASMcKYANCQlf7K8yjj/kvSEiKj/+ks////91HX9aqHYZfhIcx4uzrRQGgSmcBgEDR0YEIaOSwtDdAwxs4nRi3vNE2saxbz+7tobUrkoGFJqVsKx0PQGSe5CEf///NExMoQwcaQANHKlP///vY0UJnko/1v1U0JcwAv+YmNB4qNiwWgx+hCCjO6kBQglMHxBsUX65wHECll9zMT0MqFSk20XfrZWovHlVHE6py61rLyNkjPJiTMMxfb///7//NExNoSSTKAANyMcP/////b+qtzKUYVPP+yK00KQIMyZAhqYvaRzNqGdwMpakKKDcycRzDgLCZJ8ghgt14MCOf0a7j2LW8/2NVX7f7Sq5asWYMVING2y5hPd19bO/Fs//NExOMSOPZ4AOPEcPbUflm+d7tmZhksAgqypqg0A4wmn0jSW6oUtemnaa861PRfq7LcauuYIBMbpmD4b6JzeuRnIyygkByyYcDaZl0fWZNvYBqb4y8+Nc8uTdVh4sCF//NExO0V2oJsAONEuNUk+p2lrmLdx4siqgi+XE8CxwjtZ0WjMtaE3kxUj0ZublCdFiz3YoV657cabvViEze7rZr+2vzMLcdcm66O1H7daqc/HTVwkc1H1aQ1/JpNjc4c//NExOgSsQJkAOPEcExENyp2y61nxM/ScYydlAfEQ7J42EsnoqXavlWr+zBTpzZybz2eSzc7HfwrXKCekLCp51b11zdHWr/WCZnr7M5t5mZ6ZJBMTCQoSLLsNn7rZ/Vj//NExPAVYPpMAVkYAIR7i2O92DJg1yVFzxz/g4fZHbO0Fi1N7mT9Z6pg35pVL/8tX6lh5x1RUgq/uMuOwRB8HeYl59c80dr//mPNjhIIQ+aRRCGw7SEA8ouIM4////7H//NExO0mGypQAZlgAHsSOHIp6FMNBoHaQSAooWHghSOOwef////+zjVGjoWs5dK2/yCMmMLDFAxOnoPNL6lWm/YUCnDHoGyiOQGz4xZ8eJw/U7ypzv67+dJ/7zN/9Jm5//NExKchAyqoAYxYAOe1EnfG1hOAdfttWK14fcaJMXVolDbAI29Zuf3xmogld+r24x6jt2GqKEyy7RM54qeqSyIY+UpLImoxQs/IK5YFdb8QVg2KCm/3/x6C3CjvxBdC//NExHYdkg6gAdpIAZWYvVpuCh0LNekTUyFxpxh8HmBIZtR8YoCGreBCH0/h/7yfq7Z9/sTnSJvwXTt48taUuLMkFRjY3V5andWQx9VPCQJcek16MGgiAiIwHVa8kD4Y//NExFIemeqUANvYmKJ/oZcuttlIEh1DmuTGdNzVg+Ixdy7qEhNLb0m0GOT///pFpz7kEn1qpN2e2aMRCR4IQtaIJGuVKiR2JREbJFjdZoRcNCZnbFid6nYnb3WXBbWe//NExCocwc6QANwelOs5Afr2NKyvRZQuc78tEUfTN84uxHmcL2E/0pw/Y9p41YKJpvfxBXc2N/Fmqn/xhSNNfPNaNEwYARpI3/7fWoUN/Y6EEbEli5D8eU1K7xlE8Cp6//NExAoSca6QANtOlJsl4uPOGHoAJAgzmia1Cely2s3t2dJT93akdKhuRTRBSWOO1odpNNNOdh0VABBN2pzUb6fzh46CwlcYKnf//6p3amf0LCDBd8BSWbSXLJSyGdWC//NExBMP4QaAAOUOcNMJ88tbsLegtCgWar6N+c1FOCJvc7dqjUhyCZLs//aty+//7bdBpn/ZW1BWmnlgOnYAFAIYgFRhzCGfReECdn7J0m0ey048SZRZ/XJQ0LP+/sbU//NExCYQ6HZ8AVxIADlCX2R6jbTRGyd/or//9den/0LzbkN96tR6CQhdRXZJa0hBI7Jo59w44EO+QZkGCp5FWDmbUEU2ITSOD67LZZH3KFFHEjCvqctzw8F0HFu3/8Ok//NExDUf4yqMAZpAAMO7oyV//+lPDOWeidfX/9ONSI5f3ekuz/6qpv/Mumqpa4SIRBo8baiYseIXf6e/Vd+NGHB4DcXoOM4aXJHgoHCcSYuPwIC48FYXhfmGsT////////NExAgPgx60AcEoANP////9P//X+nX9O1P2Q/S1VdlsuUeLHYToRFSrSsKjCChDIIkDxRgEEw+LFGECIsNAZWFBdf/6///////l///an+vzP979f9USZ866HpV2MMNM//NExB0RSxK4AAhOuXQxjnZ1UnHxxTxwesKzknFHUvecIpMQCwRx4oNSY2YaLGBupYqUB4qq/////////L//v//+/////r+OfW//4/ma4We6j90qbhUfEGSylaR7XkUY//NExCoQ8yK4AABQvEKcMOIVQbl40IxofDZFrFTTlDk40XPEQVOi/8v////z7F5v7ff/zMv//H/xx////98d1/N9/9PcP89s0/kVFTKREizpBx0KbKPcoUIp8ExIiwDw//NExDkSYx60AAhQvPCIoW4HTDC4xgdERjxDcPSq/+zf/////HZgj/1//////a3r29XY27VW7KW6ZmVn410YzGOoQIxx5GKUxyCClI0aogKOocIRGA4gOOpQkU6nEBZ6//NExEIQYxa8AAhKuMXj5bHQ+wc442VD3NcEoUH+8inX+f7fjG2NyJZTH9Tvnp/////vZpjGf+jp+rVa/bUtkchWVn6ehrQzlEggJyo0zsZRNBXAper6m8aq2jFUAcSf//NExFMSEv60AHhEubpqXEc8DuEaKn1Eury+/5/8YOvjyzGlTRU4CTRb0XXcIQK9yhYNw+aLh/L4gbWHI0HA7QfyH///k3bf2yv6vdTbCA2dPift3JUOBqbTaWUMK/QG//NExF0RuTKoANTQcCfiVm8nDGZuEUKAkco4NwGg5P1Qk65ytPliQjC5dW/OO9PW5qpcdImJY9o///8kc1q9NH07jTeDhhC2r8QwMggGg2xGhybO7Xr4/ohVeYQCkqpA//NExGkROaqkAMjOlLCa8lmgoBGnGCymIaKGx8DCoCJs/1FXZ7//////9VWAmhUsWQ0PKaWLDdSmSNFmI/ue4MVt/3z9o/FCmWpjWYjDu3AhHSAwIUUGSgnjj7nJJG7I//NExHcQiLaAANZMTCAfyVwRYAyCiYk2f//9f/Jo3hhfESB6NrqhiKqzhg5MZPbqAQQO2r6nVtbdTL73eaUzKOFih8YCIsPmETBMPjBMUbre9Pr1VyMcQDaDRoEEXL////NExIcRQOJ8ANLGcP//+hWvjqbJGQ1/cqMQyW0DQLOddggBnnj58wav//b/Pz0zvreq4cLwarmwcAySnDAuGcCmqE7+OU61Mntvem983zez7LfftAnfr/xRvFEUp/////NExJURUZKcAMlKlEmP/QHlq9qxIAVAM2jrZI4Z82HQYeq+yIj4joB9G9+n/////9TyVqiEBQzMRBdDtHCUhZtAfuuU+er3fBiX3rxl0kKtzwnqSajpRNH//6bv+sWJ//NExKIU4cqcANKYlJCbvytkBhMENAjvwdFjGGMvRnXSMRFBjnBYiOKrknoY/b//v//j+2InoOlY6ADig0HeummO84OonJmx5uyoNnMp0XfFvuDZK+So2Y1J6IVPIu////NExKETwcacANCSlP8sqWGJAABmi4eDmaHAZvQUETNa0DhjB1cRggxCCxbImwfBMSVWaE8ous4izUVvpGjZm/Q/mPlK3NepKBULC1iQAEIzFMSavYrJq1/t/c/k38M3//NExKUU+caUANnWlJRq2xNHgWQEn//+trmsP0t/TX0a2jYYBhGZTRCZBhGYFAAl2HBeZOKCNBrLaQEnTqmE46SLjAST5/XEYedx3UluWvrhh8eEniK+g+1UI8c7CsjS//NExKQYqcp8AONQlHUVD57ueWMYfmsapL17P//2ppkmszosCTRzD06xDKlVrJkeTBIkNqbA1iEg4KpJgYoHDXYue5FyAdmIgUQUsE+DWiImzJhjQhUXQHE7SPKnLPch//NExJQX8T5wAO6OcM25tzDczam5yUbpCUsJ0X/93//+jWlRgDHXiqGzc8/of13HHGgIcTshpANKXrsMMiI6Mfw4EqbQkKAEyMEZqkj6nc9W0gBQu4HsEQ5FrFtff8ou//NExIcVAUpwAOSElF7oeraTOxAw1eq3/1/////drNaVgJ3yoCAcMDgEtM2C9y1wmCCmYWBgCDTaMIAAZV7TSNfbXrVmkn8K3cgCiWr7RtYPg/66ZBYTOTa9i////6v///NExIYRoK5wAOcWTP/SzBW0qE0dC8zgMFQQJ4EgieLU/dyD43f+/pi1mvVjyisbH88O3rZWRFYhjguVbGVgpMdWsMyKTigiKBk0XYxDNcHN0w1fVamClPAprbNRncXO//NExJIQOIZsAVxIAAQtPo0XOYv+s71/pk+XixI9b8PMZxGeSWzfev//v/xqh0LjhRgKHnHZ2CDqLrDQxKjovc+uZF6zNxlI0ERxK3KonHzBDU8oru5W7/Pw//zw592m//NExKQh8hqYAZl4AN+d6Say+ylVGK04oIog0JmRVBysHQgBCnGigZQD8NvFjC9ajD1oVxN////1LrFHefsMHQ8flkGtHEScPC8Vv1X3F9iNlCL6hb8QbUIN1b7/3d55//NExG8SMU6cAdooAF2pjuIFVZWA32GpqOXItHaPlcyTOPPy1tH+ub+JZzKtoLf//7f/+RrOpejgooB5ZYjkmHHmitGmINdkUOUQ4g8p//SGWfWbmw/0yOg+vviV951f//NExHkTYbqQANlWlAH7FTMzEcd3ljSrX2BrX1sT6u3pr1erl9pW7FppWCDX4Gcm8CjrzsVK+x0IBj+////1tRWr+VYVODv7MuXmZuAGppO1o0Ae+Gb5Um+Zq/i34aY+//NExH4XmcqcANGYlGUj3PlrjZWW0oPw0nnEoVlbWnSUMzzkkYZLZ66dO6nNn6dHwvEZ0qNw8Ijk7///kFN/0EHes6Rxxce68GP0KgDPgWPWe+BnmmdC/R/O9fNb+H/h//NExHIUsbaoAMoWlJPJD0PJkQQ0DcfSEF0ihzV3rT/F/w3eq96ivNtQ8uPcxH////5GuxLWtygZ6DHQ3JtyUCIe+x+w0Y+eb1Tzeq8xee5vdvekwLkh4aDARhxhgoJA//NExHIRubqkANHQlLR09h9CRyzfpou+zbsdY5ShwuGZz/////2BSv7qVjNIRjFJ6kQlhwNz8LIZT/yX/+11X/pHkLWoPNEmMbEWKCEx5D7vv2YRUp3Q0elPCR6bEI84//NExH4RYcKgAMHOlCcSCxndRQQ/8pfTq6DiHVLq6gMizcoStXf/////5K90fM5D8tEIxBBK7sIUyLNJYrhAgTIWZhCCCEj3iwbhgBhg5QaOCxT9QYPz5cealxATQh9s//NExIsSEbqgAMhQlD7kqnDV9v///////Iz5rLlo7Ikq4T0hHKbP1ggcdpT8nxbKDviRC6ESeSFN85wsnLzMoVvnfPRCgAIPc+mZcIxGU49Vyc2GNYpwS2r///////X///NExJURqZ64AFBGlLmGYXq/mrkq1SoUBESRGo5DYd6aGTsoMkrNTidMqXw79yNMvTlJGM5Xd9B0sDoGVDQ3PQLKwdfAhIo2CinqIf////z//lRllMmIwo6X8NnnrVsD//NExKERmw7EAAhGuTNaSylnxjVAIVTKCgzCmi+TGxHdS59uvDztWHGNQRMyiiYMatDwYChtNmNSarxoxgIpHlA6OpUT////9//y//CXs0pNYZND6RrPnmpMphSbqy8Z//NExK0RewrIAABGuUmoCsY1VqoboljqsFMurxqfhUFHq1h+pN8ZYZNhUFU0rUVNhEzSqIUqVjChBgDzO/WqwnOZt/d5TXlBgLBAioGAWCkUOh8lAhVj0vMLZJmdBc+M//NExLoRcx68AABGvLXmFQG5LnoTMrGNPFB3GBxfYtGQOOLUvVxjWTaiRtYTN11So+TEzyCZIuUzE3SPw5EDYRCdypRCCNBc8RQXUI5sFjSFEI0Qw+ClH0WJ2IQu8oRx//NExMcSSsKIAChGuTFEnD+jaKgPINg16QqUGLpMoV+VLWLvD2RKRwho8aNxpg8fedT60NNHPu4uTE7OQetwqyNuElVFzyTZFCDlVNa5hEmX49e0dO6Qh/8ew8eapJ4n//NExNASgEJEAVgYALQcDVmxfzHWH1GdgDne3tox7DeVb35/LicbGG99GpLMxHQeXJvecmwHYnIUreQo7H0dZ/FLNaaUnJyWOdcMuKsdm80u9xs7dcf/U3TnM3NVdLmS//NExNkiOyI8AZlAAeUYasdN19f/0ze3l5yU1XG5sa326eyd/////n7rg4aMNGVDK8nXX21+5JWhsblMyglIwyQTKHSFA5t3BrBbBYg3VDssyWZbkDX4vf5PNoPcvoFM//NExKMe8yKkAY9YASQCMD0RBJA2BNHHjJF1aKSlNR6l6qlIKmCaaKRw1TdNk/f2XvT2UnY0cwOFwkGCZl///66XjdAyM3VorT3ZUgWZcymrh6EbNQsEmVMZ2Dacunhh//NExHoYgaqgAdpoAJ0jxDlat4ctn8glKX9PF9NAE+WwQQMJMl5N50wMUsW0GsXdfcimc8taVzWzUTh4CEpt6kU9j52ceA0BBgo7BEPAYAkf//8YlWgHb71vgHWqq5fX//NExGsZyaqUANvGlI8Ojz2RGLSHjgFvjADQHLceNXbaF6Te/vK1CiMuy+hrYqkZAxrD6Wmv82zv1Q//mY+8whiSlM3s5GbbVSoQocGEhIhy1f//945j70Y+pjto6sbG//NExFYU4Z6UANPElDclbcDI/gM8j+3YuNuJaFxGjY4xMHtTEBBeLXMj6QdAn5anx9TTV2/T6k+p/QBm+V/Rfq3oJC73Hf///ptFtbMjj8auWPZSBVALIufE3+p30AsU//NExFURAaKYANNKlB1v89Utm7P7fj1V+5pWEIXbF3VWgYw0u/+1uklLCn9SlsNLF/f//0UTg0+ctTxqPif5v5qEAJECWjhJP9fPUiLOIwgViCKaxv/zH//8+s+/1X2V//NExGQQgKqYANZYTNdzoqKRkkadzupDiZmEzvSdyd6yRMeRWQUsdxMDqofBw4Ii5hSRiBxQ+HxdcPi4gHEbIcRTh9X+X/////5DX///9v6D//H//1//9fw/oxa/OM4G//NExHUWCu6sADBKuew2F0RyyRD1boYYt48sazlmq3YKB7kB+DeIPMZBNUMJBxtDWFB8gvYsO3cULRAaJIu0df///9//////////ej/03ZWcmhlyMjGd1VlEjhETINEj//NExG8Toxq8AAhQvQoHkYcKiZxYXAQwgHxNQgR1Dzoccc4oKRAkSdROKCx1ER4wBRQPnf////////69rb5qF34h/TJbQbvKWlkDVyho18iSxg1kULKg8cIVIwf7GFuI//NExHMRsx7EAABKvLYkEsDw8HHh1RgUGxQjkiQXBoH1nur/+v//+v7+4/jtltIGwqjto1tIKOsVSroqtDUG6B6NENJoVphYRCWoYw0g9TixQPkJgoebYqeKkDjCgsII//NExH8QWx7EAAAQvC0VMkQx5ouJB0mv+Kpf///L///////////z////9/rNv8ZsfXbNivPjtsqOp1X43nxj1XjdKPRKKdgWKu4QdkZ3BJhk3y0C0StRnCSzB291d0tw//NExJARuxrAAAAQvekJuMAJmxTAX/5FnlZmv5///9roszl/trv9PVnQxWtgLBgoCAiSykNehjIZ5t+WVqo6sWqlZymvMYxuZylayBQIqiDcTX8CVbupI6ghTnfWr6cG//NExJwSgx68AAhMvFQJSdXsmeyP6t0Fvkrn993ZbQCEC6VllG5unMDY48HRDaefxYkHwSa0cdrxwifVpnvyv////9Tq1bkUuvAI9T3GhaKi7S2IU2UpgaUwYCNCIOfI//NExKURktasAAhEuaBkRFzAjwHiH3RLBOB/xD2L6RwzdFOb/8//P7tnT1f09/M1TqL9n/////8H1bH1YgDVkaLHsm2XghGOwVUNIGbQLhZwybbXphZCiFbtIwsvZzkY//NExLEQ0K6EANYMTGwGKFFAa7TrBhBd5MNR2HrHN14p/+hzai1TsJj7lQ7OgSADDOZYOxtxUfsOXspOYpAtPHnOLIuGGlvqDn39//5ATrBwa/cXlBw0Tn3l7UrDn1R2//NExMARkY6MAMyElBkR2deJcY5MRgalyGTE2weOuWMIabW1lbRnabMYbYO1a1lTjpXgf2rNg0rB6+dyTTu99j//+qP/3XjfNcryrv7FcEMkHg/EGCGSq48HrTzS9ZAq//NExMwdKb6QAN6WlFyo+OVhUIhtkB7GMVJtkN//qnM////PZjyo/aYYz99jDdUI2MMckMECN7rWerpUnffkkngaQTASKdhZoYk34Tn1ZNf++1DvP0r3H/uxirnZwS5d//NExKogYvqcANYUuZsWptX9jDgzDqYwG9JpNoFGfoDYPjTCgDBfcdfkT8umpz5AXVJg2PXJryFXoo1f9NTyZCrPSylEnF8bvd5bECaF0Uyl4jXRIlEYTdOWoEVBtg7m//NExHsYubqoAM4UlH1eRHa+Woxqf9Q/HTDHvOzPXXi4JAa/60v+Wb/xz55ACsm0QG9vroPDZsSB5J1wiPQarkhKn//99ldXzsrvlrlNSTxCRLtoLd1yohGgAOYJAlgC//NExGsVwVKoAMvSlKlpFSXqUpsN6NbW/jrt8UOPFwSE4qRJQgcqW80rw13p0495fFrIMmcblEkD6vYr5dXGlxrNyOGkHgLLsF5GdjALgGBIfhhfQkZJCY+VNee2/hVn//NExGcREUagAMMQcF3Xfl9rKHpTD9emhp6YenZmWsifVYitkSNgwG/NZC9ilJKt498XsptGg4FCI0NrI0pPUbU+316uKnj1RlNixR/////0qvv8yiIxLSge6TQyjsZu//NExHUZiXqYANYSlPArBZpL+xg7NLG+TSwzqYc7QwBe/9dlUX7nMui7l3U9agdoIf2uycpi3trRxfP1Qk6/fsfLFnunp0yvmzNL32vWr087QuLlL3RQW5Q5///0eqrd//NExGEX0X6gANYYlP3WwLEM0QJ7coafQUUCZmSY2wdpJ97xvRy61/Cc9/G6sFf8NxlOsQXSSBhRcW3mSP/5G7fzrNZ7/T5hiaivY0Zz39VzjVc4rM8YRdRrltWmljNz//NExFQTgXKgANPelAKjHSEoGIPphGDDJCQx2htHFlcqwt0kNKevrjecbeXWw0QgBJVRZYuBmE/qqJqXyUltq8lHL6SFDlocGm4gu4t7IGlNM5hjShDRiee/GxEEDMIA//NExFkReTqQANvScU7uaH6mZgAo/n/hb6c1e3VJ0RwCwkGCTNO0csSJkZx7ahQaz/+j///8xFv91zqyZOLKk1ekccwpcOscQ4ka3LpOCGImBg9GROAkLn9gkH5vyee+//NExGYRGOJ8AOMOcBv8PToNCMGBV4MeKl00pz0GqHAMCJLsGjnf/mf/////62MFhV1djkzYkYWpAcXB0FteMwyM85SWcN20bw6d6mh+Ps3l/PtzGd2G3ftb7KIcx1SR//NExHQRqO6EANrQcIeBxfjduWKYQ7JA4FBFc4cPXKIHVuQQStli8I8B2UKh+DcTgsPtHINt7hXc9P3I3LafceigkTLlM///6/+v+hXuO6AgkISobdh2jJrlVnfpFOyU//NExIAbEb6UANYQlCQodD5EsqtSMbDNvaxHtWRPx6aXTLFgXRiFGUxvSbgyheqiUhmE8/JfcyotyuBGU/kOO7Jx8r7bo+Ks6um5xtLP7QcCExUeCEyf///MKt/bCCeI//NExGYYCaqkANPSlJ3AQ8ASm1HhsACqWLMSVSecKKL1lJ9pS9pNX10RFO1BSGaTE+O9MKSLiwQDoILMFjRwkwSu30qNsYftr////orXbkEjE7X7k3EQzuB/RBawIh50//NExFgRIOa4AHtScHElqKe025lf5PeqesjuZAFD2poHSPkRIdjqREFSx0CFJ58SPS71Fq3AYg+jRt///Rd+ncrD6WHjQOGjsci+h3PSG5dbChCKPfoArcOtqbq+v3/z//NExGYRwTawAMtQcGtHD03QGgRQQGSmLgoKk5gLymaSruHb6hr/quLqoyDo4UhSuRu/de4V24GLjA4RQxBL8w0dX/8lMCvo/BPx+qdhfKftVba/KX8FBuT22KJCELni//NExHIRWaakAMlQlUmh+2mzjzlTse2P5f+2+HXUORUqHpJ9o017///+tX55PBQUIo5mhI8EXUI3JyZxrw1DEXifoBLQgK1/Vf2RjWcjndjt/fGytQ0pcxnUokBhYsRZ//NExH8SYcqcANCWlModDodN/T/16lbEjfkFbmUyIbMBFiqGGtyh8u4aeGGhjHBEJCITUTAEGFiQaeU6EsVJ4UYWZALgSKlRa0OBwaAixk7Smq6Fs91bWhueRtJdqO9f//NExIgRIZqIANGKlf61JAFsSZIEqdFlDad3V4s2pnmnvxme9w/mfcO8z4KJAUOhR8q5ZMOARAdHCgdSiOsJKa5WyKOVbsbdfuqynMVOt/1Mt76q1QN1vQyCmQGouGQy//NExJYRIFpMAN6eJAfibcTHtrLtJRbJZDTQ3MJ2TOqwag4CWPnx7IfNqjrPqv/76ij595sUiDD2458/7DRh9O2F5odNHJLx/F/xv+K6Jh0dkFxqmWqc/zXPwxh9N5ox//NExKQRUIJAAVgQAIbm65xczRk4ZoZMl3Hs//mv9lPP2z2bLffnER4ofx2lZ08eUtGlL2hIAiEhD7HSWMvYDYF4KWEbQhnTKGBIFyxJw0QwkkXEYIgqLCwBjwagAQlB//NExLEg4ypQAZhYAKGDCThYkYEyi5bhyIxAnHlDYKJgkgOxdWOGi7yx0xF+LC4p8GffMHfV6b9pMDSUeImIufWnerurv4V7rjr6n/r/5urju/v//qensmCiyIcz9tG9//NExIAgkup8AY9AAZU3FXhdiZdcADz2wwUILjohmqeAZqTDpmLMxaHKJiynOr+HLEAoyAIJG0Yyhfh1sWLKxUUzFeVtn31msstrZ1m+vjH+M3xCpR4ZFAx9wPjrf/////NExFAU+RqEAdp4AP///9JxX4lqzzEiUHu8mnCTBoXMVXwFEJEZvJInw50V+ACIjz2bd1UanC7mc2Co8RCSvaxDKnKGj35zbE5/DGV0FevmuMMe1Gp2u2eYs2RksEWy//NExE8aEWp8AOYSlEP2dMw9OfdzQPhOJnsU+LV//////2LI33KqlMgcMsAAxBSBIIA4RIOjoHAwRBRqWKtBmHEYyGwEkTZb1nnTFpq/iz5PUW04bnSwMyib2F7JBiQN//NExDkUQNqAAOPecMF7Fi6Oh06omSXUMeSDqzv/6P///71/6772LqBwCemSj3oNBTviIGOrXCICjMIAB7GyLj4HdZAspJMU0+xfjbUqLXlSYdWXZ7Q8VOJCtIuNPf/9//NExDsSYNZ4ANyOcGG3f//vjkMLs9lKo062qoxdaQIQeaInIGD7TIkIQca+BQcAYGPA0gdahTqcpiTaimfRyl7crWUKJVmRtdYooLn2sAv/////+hrXO9m/68WqpMI+//NExEQQEPZ4AOQEcIuGDVCLUTcAQjIWH3e2RgNAnqnHTuUTLs69c/Ln90Qvy4dckRAgg4kRELDixxMQKKAgCHaTRSQn6fnM5+39079VubnoQbWm/TrbHAYuTk9akZVA//NExFYQ6SqIANwGcIkREnacFVURf/9+/39/nzz+xOIRIVuH0RoyhpgOs9BHZuiD14zXve6dtMJlg5yZWH0obR////+lxv2XaNQhSanaFAWLkInJ4ggkhJ1OACurp//9//NExGUScb6QANFMlFP/188v1ZCCGhYficLQ5JYwsF5YhGi7YzP0lDKThP1nogdbwKCjRRF5FKFdKt54L7A8UH2JKVWyh2musrNMl82QCLnfEBV9enU/J+//IvcIXAgT//NExG4RycacANFQlRQhRLXOG+zBibFk/L9V+157bH56TMWv9ppqlIUAHLP9Wuf19Q2lnPIuAr21ZDbAdj7eNprwNWTmvdszv5tv8rPz17zx+8wARmgkNzh37lz+Vs2x//NExHkRobqoAMlMlRzZJ56JuWELj2GoCi0TPKHlZ7///RX1VfiUUwGTAvUAihYuSjjNnCSq8wvV2D2NYQZ3WMrvc0SC35NLyQDgul41j7EIDtro5dTP8X7zzlki4epq//NExIUSST60AMPMcKKhpQ/BKpzHf///6vv1qv7yHikOT8zBxNfdsrEvFwKeR0mFyTaH+ZO/dDY/wiMZ9HKkNADRxOhmedpjf3f/f/v24bmqhAqeWdrqkpGv////+yn6//NExI4SSRq0AH4WcLNV/O4i6Qkq9mDCKLbqBKFZZwMlDwOaFkbDUBjkFsRxC8GvDjevMSGSRNxmyJMXVyz2xNyt7HMmSoIiEwp0VprNFGLeWap//////Wr+9iomjB0+//NExJcRWSKwAMvScIgAK1t4Ae0A+HKbmAOkN2tb6jM9cqKWQLcuby6HSQBYBVQ0WvglfVeou3id5Frg6ws8BPMuexR7llFagu5AYMiHIMupDJDMMuxSLUuROAw7HbA///NExKQSWSasAMRWcB+DE75Y//bpbDN9uu+ZlFrfiw07V3SvuDcTKQAgKsIQYEFFEHZS15k5wmUis5edDg06oN////a9mvrqlkCXjArYOH17v+KpADUlUUzobSBiuoGE//NExK0QYSqoAMtQcNoG8W82ufvm4upp5ubHnGLurhlQz3qBRIgDIaWGwWFKhUDDQZaI2BSvBgrBSEW2nKgQTD3Ic/Vng0z///RVcqGVlDOFdaEjYZuAnnloyJvcXkMc//NExL4UkVKMANJQlACX6JQUtuuGTOHSr1KXxwhzqi7eX8nbrbwcCnZVcYl8QW4zqwkrU1Dz4gYWNEQbohFPZWeZtlOOWVHdlslZhHQ+Pr3srbMrH1qllb6AHgXwcdNo//NExL4VSV6AANrSlOFeOyKSpW2ZWOJVopK0LndV+fQutTXWtxGnjackjlQYgOA2NWvOueyHQ9td9yqd+9yrhKETo3rgVyzu9aykosMgIHwgmnlgBvQhmIniD0uT1YAM//NExLsXaVaAANvSlTZTAEiZCUBGzQDHQ2/Px92ohDUhgDOOhQn6TksOLkgWxKtcz+lbo9zPhQChn/7LdgLDjwCDv/////0VVCCgQDEBk02coXAoMJl0+jJNzKyAsDLk//NExLAToP6IANYWcOiJUHkFXXPRd6N5PmAeYfYCQg1SeLDK9zWV7Bq++Lf/5//vUrf0sX///++/ukx8EPwk2kvS2RIHmlMZgiifo1mamJtxiHVJxi5mkpgAphj5cR60//NExLQSGQZ0ANvEcL1Pllp8OQuBINQ2LYewvB4DGhYJIQaXx/0qb/2fjWRoSn3MQdJjoWfnytlR0YuCd42bOgYBUclYNAnDLiwAC44GkMhCBkMoUMHxKdKj3Q1+twNP//NExL4SqbpgANvElRFr/y36zpIRVqPf////+W9dNONOLKPQHCoUiIZDw2QCscEoqEI0HxgRkBOfQrKpJqLqBEVFSIBBkVFQTfywSFhYHDOoShUVFQyDIVFRGc8FhYWE//NExMYQMHJUAN6YSIbCQsLN///ioqz/6kxBTUUzLjEwMFVVVVVVVVVVVVVVVVVVVVVVVVVVVVVVVVVVVVVVVVVVVVVVVVVVVVVVVVVVVVVVVVVVVVVVVVVVTEFNRTMu//NExNgQqGosANaSKDEwMFVVVVVVVVVVVVVVVVVVVVVVVVVVVVVVVVVVVVVVVVVVVVVVVVVVVVVVVVVVVVVVVVVVVVVVVVVVVVVVVVVVVVVVVVVVVVVVVVVVTEFNRTMu//NExOgTgJDoADJSTDEwMFVVVVVVVVVVVVVVVVVVVVVVVVVVVVVVVVVVVVVVVVVVVVVVVVVVVVVVVVVVVVVVVVVVVVVVVVVVVVVVVVVVVVVVVVVVVVVVVVVVTEFNRTMu//NExKwAAANIAAAAADEwMFVVVVVVVVVVVVVVVVVVVVVVVVVVVVVVVVVVVVVVVVVVVVVVVVVVVVVVVVVVVVVVVVVVVVVVVVVVVVVVVVVVVVVVVVVVVVVVVVVVTEFNRTMu//NExKwAAANIAAAAADEwMFVVVVVVVVVVVVVVVVVVVVVVVVVVVVVVVVVVVVVVVVVVVVVVVVVVVVVVVVVVVVVVVVVVVVVVVVVVVVVVVVVVVVVVVVVVVVVVVVVVTEFNRTMu//NExKwAAANIAAAAADEwMFVVVVVVVVVVVVVVVVVVVVVVVVVVVVVVVVVVVVVVVVVVVVVVVVVVVVVVVVVVVVVVVVVVVVVVVVVVVVVVVVVVVVVVVVVVVVVVVVVVTEFNRTMu//NExKwAAANIAAAAADEwMFVVVVVVVVVVVVVVVVVVVVVVVVVVVVVVVVVVVVVVVVVVVVVVVVVVVVVVVVVVVVVVVVVVVVVVVVVVVVVVVVVVVVVVVVVVVVVVVVVVTEFNRTMu//NExKwAAANIAAAAADEwMFVVVVVVVVVVVVVVVVVVVVVVVVVVVVVVVVVVVVVVVVVVVVVVVVVVVVVVVVVVVVVVVVVVVVVVVVVVVVVVVVVVVVVVVVVVVVVVVVVVTEFNRTMu//NExKwAAANIAAAAADEwMFVVVVVVVVVVVVVVVVVVVVVVVVVVVVVVVVVVVVVVVVVVVVVVVVVVVVVVVVVVVVVVVVVVVVVVVVVVVVVVVVVVVVVVVVVVVVVVVVVVTEFNRTMu//NExKwAAANIAAAAADEwMFVVVVVVVVVVVVVVVVVVVVVVVVVVVVVVVVVVVVVVVVVVVVVVVVVVVVVVVVVVVVVVVVVVVVVVVVVVVVVVVVVVVVVVVVVVVVVVVVVVTEFNRTMu//NExKwAAANIAAAAADEwMFVVVVVVVVVVVVVVVVVVVVVVVVVVVVVVVVVVVVVVVVVVVVVVVVVVVVVVVVVVVVVVVVVVVVVVVVVVVVVVVVVVVVVVVVVVVVVVVVVVTEFNRTMu//NExKwAAANIAAAAADEwMFVVVVVVVVVVVVVVVVVVVVVVVVVVVVVVVVVVVVVVVVVVVVVVVVVVVVVVVVVVVVVVVVVVVVVVVVVVVVVVVVVVVVVVVVVVVVVVVVVVTEFNRTMu//NExKwAAANIAAAAADEwMFVVVVVVVVVVVVVVVVVVVVVVVVVVVVVVVVVVVVVVVVVVVVVVVVVVVVVVVVVVVVVVVVVVVVVVVVVVVVVVVVVVVVVVVVVVVVVVVVVVTEFNRTMu//NExKwAAANIAAAAADEwMFVVVVVVVVVVVVVVVVVVVVVVVVVVVVVVVVVVVVVVVVVVVVVVVVVVVVVVVVVVVVVVVVVVVVVVVVVVVVVVVVVVVVVVVVVVVVVVVVVVTEFNRTMu//NExKwAAANIAAAAADEwMFVVVVVVVVVVVVVVVVVVVVVVVVVVVVVVVVVVVVVVVVVVVVVVVVVVVVVVVVVVVVVVVVVVVVVVVVVVVVVVVVVVVVVVVVVVVVVVVVVVVVVVVVVV//NExKwAAANIAAAAAFVVVVVVVVVVVVVVVVVVVVVVVVVVVVVVVVVVVVVVVVVVVVVVVVVVVVVVVVVVVVVVVVVVVVVVVVVVVVVVVVVVVVVVVVVVVVVVVVVVVVVVVVVVVVVV//NExKwAAANIAAAAAFVVVVVVVVVVVVVVVVVVVVVVVVVVVVVVVVVVVVVVVVVVVVVVVVVVVVVVVVVVVVVVVVVVVVVVVVVVVVVVVVVVVVVVVVVVVVVVVVVVVVVVVVVVVVVV\" type=\"audio/wav\" />\n",
              "                    Your browser does not support the audio element.\n",
              "                </audio>\n",
              "              "
            ]
          },
          "metadata": {}
        },
        {
          "output_type": "display_data",
          "data": {
            "text/plain": [
              "<IPython.core.display.Javascript object>"
            ],
            "application/javascript": [
              "\n",
              "    async function download(id, filename, size) {\n",
              "      if (!google.colab.kernel.accessAllowed) {\n",
              "        return;\n",
              "      }\n",
              "      const div = document.createElement('div');\n",
              "      const label = document.createElement('label');\n",
              "      label.textContent = `Downloading \"${filename}\": `;\n",
              "      div.appendChild(label);\n",
              "      const progress = document.createElement('progress');\n",
              "      progress.max = size;\n",
              "      div.appendChild(progress);\n",
              "      document.body.appendChild(div);\n",
              "\n",
              "      const buffers = [];\n",
              "      let downloaded = 0;\n",
              "\n",
              "      const channel = await google.colab.kernel.comms.open(id);\n",
              "      // Send a message to notify the kernel that we're ready.\n",
              "      channel.send({})\n",
              "\n",
              "      for await (const message of channel.messages) {\n",
              "        // Send a message to notify the kernel that we're ready.\n",
              "        channel.send({})\n",
              "        if (message.buffers) {\n",
              "          for (const buffer of message.buffers) {\n",
              "            buffers.push(buffer);\n",
              "            downloaded += buffer.byteLength;\n",
              "            progress.value = downloaded;\n",
              "          }\n",
              "        }\n",
              "      }\n",
              "      const blob = new Blob(buffers, {type: 'application/binary'});\n",
              "      const a = document.createElement('a');\n",
              "      a.href = window.URL.createObjectURL(blob);\n",
              "      a.download = filename;\n",
              "      div.appendChild(a);\n",
              "      a.click();\n",
              "      div.remove();\n",
              "    }\n",
              "  "
            ]
          },
          "metadata": {}
        },
        {
          "output_type": "display_data",
          "data": {
            "text/plain": [
              "<IPython.core.display.Javascript object>"
            ],
            "application/javascript": [
              "download(\"download_aa8c7a8a-0482-4ce4-92f5-a05a07ebb345\", \"translated_audio.mp3\", 53952)"
            ]
          },
          "metadata": {}
        }
      ]
    },
    {
      "cell_type": "code",
      "source": [],
      "metadata": {
        "id": "cq9MRuvJrH4v"
      },
      "execution_count": null,
      "outputs": []
    }
  ]
}